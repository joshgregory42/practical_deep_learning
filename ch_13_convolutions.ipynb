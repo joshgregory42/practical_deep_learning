{
  "nbformat": 4,
  "nbformat_minor": 0,
  "metadata": {
    "colab": {
      "provenance": [],
      "authorship_tag": "ABX9TyOoZWQYOeh2+t2L027B48vg",
      "include_colab_link": true
    },
    "kernelspec": {
      "name": "python3",
      "display_name": "Python 3"
    },
    "language_info": {
      "name": "python"
    },
    "accelerator": "TPU"
  },
  "cells": [
    {
      "cell_type": "markdown",
      "metadata": {
        "id": "view-in-github",
        "colab_type": "text"
      },
      "source": [
        "<a href=\"https://colab.research.google.com/github/joshgregory42/practical_deep_learning/blob/main/ch_13_convolutions.ipynb\" target=\"_parent\"><img src=\"https://colab.research.google.com/assets/colab-badge.svg\" alt=\"Open In Colab\"/></a>"
      ]
    },
    {
      "cell_type": "markdown",
      "source": [
        "# Convolutional Neural Networks\n",
        "\n",
        "**Feature engineering**: Creating new transformations of the inputs data in order to make it easier to model.\n",
        "\n",
        "In an image, a feature is a visually distinctive attribute.\n",
        "\n",
        "Example of a convolution:\n",
        "\n"
      ],
      "metadata": {
        "id": "urPp6Y6jttoS"
      }
    },
    {
      "cell_type": "code",
      "execution_count": 1,
      "metadata": {
        "id": "f8XR4Ek2rvRO"
      },
      "outputs": [],
      "source": [
        "# Create a kernel\n",
        "\n",
        "from fastai.vision.all import *\n",
        "matplotlib.rc('image', cmap='Greys')\n",
        "\n",
        "top_edge = tensor([[-1, -1, -1],\n",
        "                   [0, 0, 0],\n",
        "                   [1, 1, 1]]).float()"
      ]
    },
    {
      "cell_type": "code",
      "source": [
        "# Grab image\n",
        "\n",
        "path = untar_data(URLs.MNIST_SAMPLE)\n",
        "\n",
        "im3 = Image.open(path/'train'/'3'/'12.png')\n",
        "\n",
        "show_image(im3)"
      ],
      "metadata": {
        "colab": {
          "base_uri": "https://localhost:8080/",
          "height": 151
        },
        "id": "SakmdA-VuV-8",
        "outputId": "d8310f02-f913-483f-e8fa-947ccba2a6ff"
      },
      "execution_count": 2,
      "outputs": [
        {
          "output_type": "display_data",
          "data": {
            "text/plain": [
              "<IPython.core.display.HTML object>"
            ],
            "text/html": [
              "\n",
              "<style>\n",
              "    /* Turns off some styling */\n",
              "    progress {\n",
              "        /* gets rid of default border in Firefox and Opera. */\n",
              "        border: none;\n",
              "        /* Needs to be in here for Safari polyfill so background images work as expected. */\n",
              "        background-size: auto;\n",
              "    }\n",
              "    progress:not([value]), progress:not([value])::-webkit-progress-bar {\n",
              "        background: repeating-linear-gradient(45deg, #7e7e7e, #7e7e7e 10px, #5c5c5c 10px, #5c5c5c 20px);\n",
              "    }\n",
              "    .progress-bar-interrupted, .progress-bar-interrupted::-webkit-progress-bar {\n",
              "        background: #F44336;\n",
              "    }\n",
              "</style>\n"
            ]
          },
          "metadata": {}
        },
        {
          "output_type": "display_data",
          "data": {
            "text/plain": [
              "<IPython.core.display.HTML object>"
            ],
            "text/html": [
              "\n",
              "    <div>\n",
              "      <progress value='3219456' class='' max='3214948' style='width:300px; height:20px; vertical-align: middle;'></progress>\n",
              "      100.14% [3219456/3214948 00:00&lt;00:00]\n",
              "    </div>\n",
              "    "
            ]
          },
          "metadata": {}
        },
        {
          "output_type": "execute_result",
          "data": {
            "text/plain": [
              "<Axes: >"
            ]
          },
          "metadata": {},
          "execution_count": 2
        },
        {
          "output_type": "display_data",
          "data": {
            "text/plain": [
              "<Figure size 100x100 with 1 Axes>"
            ],
            "image/png": "[encoded data removed]"
          },
          "metadata": {}
        }
      ]
    },
    {
      "cell_type": "markdown",
      "source": [
        "Take the top 3x3-pixel square of our image and multiply each of those values by every value in our kernel, then add them:"
      ],
      "metadata": {
        "id": "aD5JepLMvaMP"
      }
    },
    {
      "cell_type": "code",
      "source": [
        "im3_t = tensor(im3)\n",
        "\n",
        "im3_t[0:3, 0:3] * top_edge"
      ],
      "metadata": {
        "colab": {
          "base_uri": "https://localhost:8080/"
        },
        "id": "AeaNUWHjvTey",
        "outputId": "6514b9d4-cb9c-46ad-ca46-dad90574c27a"
      },
      "execution_count": 3,
      "outputs": [
        {
          "output_type": "execute_result",
          "data": {
            "text/plain": [
              "tensor([[-0., -0., -0.],\n",
              "        [0., 0., 0.],\n",
              "        [0., 0., 0.]])"
            ]
          },
          "metadata": {},
          "execution_count": 3
        }
      ]
    },
    {
      "cell_type": "code",
      "source": [
        "(im3_t[0:3,0:3] * top_edge).sum()"
      ],
      "metadata": {
        "colab": {
          "base_uri": "https://localhost:8080/"
        },
        "id": "FNX8DXQCvkuB",
        "outputId": "2aff1ac5-913f-409e-b824-c338fd6bec25"
      },
      "execution_count": 4,
      "outputs": [
        {
          "output_type": "execute_result",
          "data": {
            "text/plain": [
              "tensor(0.)"
            ]
          },
          "metadata": {},
          "execution_count": 4
        }
      ]
    },
    {
      "cell_type": "markdown",
      "source": [
        "Pick a couple of interesting spots:"
      ],
      "metadata": {
        "id": "RYpU12QUwupn"
      }
    },
    {
      "cell_type": "code",
      "source": [
        "df = pd.DataFrame(im3_t[:10,:20])\n",
        "df.style.set_properties(**{'font-size':'6pt'}).background_gradient('Greys')"
      ],
      "metadata": {
        "colab": {
          "base_uri": "https://localhost:8080/",
          "height": 363
        },
        "id": "hj4AXk0xwpZh",
        "outputId": "f95503df-dadc-400c-b6f7-f250df576b3e"
      },
      "execution_count": 5,
      "outputs": [
        {
          "output_type": "execute_result",
          "data": {
            "text/plain": [
              "<pandas.io.formats.style.Styler at 0x7f5a0a0f9600>"
            ],
            "text/html": [
              "<style type=\"text/css\">\n",
              "#T_f7ef2_row0_col0, #T_f7ef2_row0_col1, #T_f7ef2_row0_col2, #T_f7ef2_row0_col3, #T_f7ef2_row0_col4, #T_f7ef2_row0_col5, #T_f7ef2_row0_col6, #T_f7ef2_row0_col7, #T_f7ef2_row0_col8, #T_f7ef2_row0_col9, #T_f7ef2_row0_col10, #T_f7ef2_row0_col11, #T_f7ef2_row0_col12, #T_f7ef2_row0_col13, #T_f7ef2_row0_col14, #T_f7ef2_row0_col15, #T_f7ef2_row0_col16, #T_f7ef2_row0_col17, #T_f7ef2_row0_col18, #T_f7ef2_row0_col19, #T_f7ef2_row1_col0, #T_f7ef2_row1_col1, #T_f7ef2_row1_col2, #T_f7ef2_row1_col3, #T_f7ef2_row1_col4, #T_f7ef2_row1_col5, #T_f7ef2_row1_col6, #T_f7ef2_row1_col7, #T_f7ef2_row1_col8, #T_f7ef2_row1_col9, #T_f7ef2_row1_col10, #T_f7ef2_row1_col11, #T_f7ef2_row1_col12, #T_f7ef2_row1_col13, #T_f7ef2_row1_col14, #T_f7ef2_row1_col15, #T_f7ef2_row1_col16, #T_f7ef2_row1_col17, #T_f7ef2_row1_col18, #T_f7ef2_row1_col19, #T_f7ef2_row2_col0, #T_f7ef2_row2_col1, #T_f7ef2_row2_col2, #T_f7ef2_row2_col3, #T_f7ef2_row2_col4, #T_f7ef2_row2_col5, #T_f7ef2_row2_col6, #T_f7ef2_row2_col7, #T_f7ef2_row2_col8, #T_f7ef2_row2_col9, #T_f7ef2_row2_col10, #T_f7ef2_row2_col11, #T_f7ef2_row2_col12, #T_f7ef2_row2_col13, #T_f7ef2_row2_col14, #T_f7ef2_row2_col15, #T_f7ef2_row2_col16, #T_f7ef2_row2_col17, #T_f7ef2_row2_col18, #T_f7ef2_row2_col19, #T_f7ef2_row3_col0, #T_f7ef2_row3_col1, #T_f7ef2_row3_col2, #T_f7ef2_row3_col3, #T_f7ef2_row3_col4, #T_f7ef2_row3_col5, #T_f7ef2_row3_col6, #T_f7ef2_row3_col7, #T_f7ef2_row3_col8, #T_f7ef2_row3_col9, #T_f7ef2_row3_col10, #T_f7ef2_row3_col11, #T_f7ef2_row3_col12, #T_f7ef2_row3_col13, #T_f7ef2_row3_col14, #T_f7ef2_row3_col15, #T_f7ef2_row3_col16, #T_f7ef2_row3_col17, #T_f7ef2_row3_col18, #T_f7ef2_row3_col19, #T_f7ef2_row4_col0, #T_f7ef2_row4_col1, #T_f7ef2_row4_col2, #T_f7ef2_row4_col3, #T_f7ef2_row4_col4, #T_f7ef2_row4_col5, #T_f7ef2_row4_col6, #T_f7ef2_row4_col7, #T_f7ef2_row4_col8, #T_f7ef2_row4_col9, #T_f7ef2_row4_col10, #T_f7ef2_row4_col11, #T_f7ef2_row4_col12, #T_f7ef2_row4_col13, #T_f7ef2_row4_col14, #T_f7ef2_row4_col15, #T_f7ef2_row4_col16, #T_f7ef2_row4_col17, #T_f7ef2_row4_col18, #T_f7ef2_row4_col19, #T_f7ef2_row5_col0, #T_f7ef2_row5_col1, #T_f7ef2_row5_col2, #T_f7ef2_row5_col16, #T_f7ef2_row5_col17, #T_f7ef2_row5_col18, #T_f7ef2_row5_col19, #T_f7ef2_row6_col0, #T_f7ef2_row6_col1, #T_f7ef2_row6_col2, #T_f7ef2_row6_col19, #T_f7ef2_row7_col0, #T_f7ef2_row7_col1, #T_f7ef2_row7_col2, #T_f7ef2_row7_col19, #T_f7ef2_row8_col0, #T_f7ef2_row8_col1, #T_f7ef2_row8_col2, #T_f7ef2_row8_col8, #T_f7ef2_row8_col9, #T_f7ef2_row8_col10, #T_f7ef2_row8_col11, #T_f7ef2_row8_col12, #T_f7ef2_row8_col13, #T_f7ef2_row8_col19, #T_f7ef2_row9_col0, #T_f7ef2_row9_col1, #T_f7ef2_row9_col2, #T_f7ef2_row9_col3, #T_f7ef2_row9_col4, #T_f7ef2_row9_col5, #T_f7ef2_row9_col6, #T_f7ef2_row9_col7, #T_f7ef2_row9_col8, #T_f7ef2_row9_col9, #T_f7ef2_row9_col10, #T_f7ef2_row9_col11, #T_f7ef2_row9_col12, #T_f7ef2_row9_col13, #T_f7ef2_row9_col19 {\n",
              "  font-size: 6pt;\n",
              "  background-color: #ffffff;\n",
              "  color: #000000;\n",
              "}\n",
              "#T_f7ef2_row5_col3, #T_f7ef2_row8_col14 {\n",
              "  font-size: 6pt;\n",
              "  background-color: #f9f9f9;\n",
              "  color: #000000;\n",
              "}\n",
              "#T_f7ef2_row5_col4 {\n",
              "  font-size: 6pt;\n",
              "  background-color: #b9b9b9;\n",
              "  color: #000000;\n",
              "}\n",
              "#T_f7ef2_row5_col5 {\n",
              "  font-size: 6pt;\n",
              "  background-color: #c1c1c1;\n",
              "  color: #000000;\n",
              "}\n",
              "#T_f7ef2_row5_col6 {\n",
              "  font-size: 6pt;\n",
              "  background-color: #858585;\n",
              "  color: #f1f1f1;\n",
              "}\n",
              "#T_f7ef2_row5_col7, #T_f7ef2_row5_col10, #T_f7ef2_row5_col11, #T_f7ef2_row5_col12, #T_f7ef2_row5_col13 {\n",
              "  font-size: 6pt;\n",
              "  background-color: #777777;\n",
              "  color: #f1f1f1;\n",
              "}\n",
              "#T_f7ef2_row5_col8 {\n",
              "  font-size: 6pt;\n",
              "  background-color: #090909;\n",
              "  color: #f1f1f1;\n",
              "}\n",
              "#T_f7ef2_row5_col9 {\n",
              "  font-size: 6pt;\n",
              "  background-color: #5b5b5b;\n",
              "  color: #f1f1f1;\n",
              "}\n",
              "#T_f7ef2_row5_col14 {\n",
              "  font-size: 6pt;\n",
              "  background-color: #919191;\n",
              "  color: #f1f1f1;\n",
              "}\n",
              "#T_f7ef2_row5_col15 {\n",
              "  font-size: 6pt;\n",
              "  background-color: #e1e1e1;\n",
              "  color: #000000;\n",
              "}\n",
              "#T_f7ef2_row6_col3 {\n",
              "  font-size: 6pt;\n",
              "  background-color: #727272;\n",
              "  color: #f1f1f1;\n",
              "}\n",
              "#T_f7ef2_row6_col4, #T_f7ef2_row6_col5, #T_f7ef2_row6_col6, #T_f7ef2_row6_col7, #T_f7ef2_row6_col8, #T_f7ef2_row6_col9, #T_f7ef2_row6_col10, #T_f7ef2_row6_col11, #T_f7ef2_row6_col12, #T_f7ef2_row6_col13, #T_f7ef2_row6_col14, #T_f7ef2_row7_col3, #T_f7ef2_row7_col4, #T_f7ef2_row7_col5, #T_f7ef2_row7_col6, #T_f7ef2_row7_col15, #T_f7ef2_row7_col16, #T_f7ef2_row7_col17, #T_f7ef2_row8_col16, #T_f7ef2_row8_col17, #T_f7ef2_row8_col18, #T_f7ef2_row9_col15, #T_f7ef2_row9_col16 {\n",
              "  font-size: 6pt;\n",
              "  background-color: #000000;\n",
              "  color: #f1f1f1;\n",
              "}\n",
              "#T_f7ef2_row6_col15 {\n",
              "  font-size: 6pt;\n",
              "  background-color: #020202;\n",
              "  color: #f1f1f1;\n",
              "}\n",
              "#T_f7ef2_row6_col16 {\n",
              "  font-size: 6pt;\n",
              "  background-color: #363636;\n",
              "  color: #f1f1f1;\n",
              "}\n",
              "#T_f7ef2_row6_col17 {\n",
              "  font-size: 6pt;\n",
              "  background-color: #9d9d9d;\n",
              "  color: #f1f1f1;\n",
              "}\n",
              "#T_f7ef2_row6_col18 {\n",
              "  font-size: 6pt;\n",
              "  background-color: #dfdfdf;\n",
              "  color: #000000;\n",
              "}\n",
              "#T_f7ef2_row7_col7 {\n",
              "  font-size: 6pt;\n",
              "  background-color: #161616;\n",
              "  color: #f1f1f1;\n",
              "}\n",
              "#T_f7ef2_row7_col8, #T_f7ef2_row7_col9, #T_f7ef2_row7_col10, #T_f7ef2_row7_col11, #T_f7ef2_row7_col13 {\n",
              "  font-size: 6pt;\n",
              "  background-color: #535353;\n",
              "  color: #f1f1f1;\n",
              "}\n",
              "#T_f7ef2_row7_col12 {\n",
              "  font-size: 6pt;\n",
              "  background-color: #7c7c7c;\n",
              "  color: #f1f1f1;\n",
              "}\n",
              "#T_f7ef2_row7_col14 {\n",
              "  font-size: 6pt;\n",
              "  background-color: #3d3d3d;\n",
              "  color: #f1f1f1;\n",
              "}\n",
              "#T_f7ef2_row7_col18 {\n",
              "  font-size: 6pt;\n",
              "  background-color: #999999;\n",
              "  color: #f1f1f1;\n",
              "}\n",
              "#T_f7ef2_row8_col3 {\n",
              "  font-size: 6pt;\n",
              "  background-color: #eaeaea;\n",
              "  color: #000000;\n",
              "}\n",
              "#T_f7ef2_row8_col4 {\n",
              "  font-size: 6pt;\n",
              "  background-color: #d0d0d0;\n",
              "  color: #000000;\n",
              "}\n",
              "#T_f7ef2_row8_col5, #T_f7ef2_row8_col6 {\n",
              "  font-size: 6pt;\n",
              "  background-color: #eeeeee;\n",
              "  color: #000000;\n",
              "}\n",
              "#T_f7ef2_row8_col7 {\n",
              "  font-size: 6pt;\n",
              "  background-color: #f3f3f3;\n",
              "  color: #000000;\n",
              "}\n",
              "#T_f7ef2_row8_col15 {\n",
              "  font-size: 6pt;\n",
              "  background-color: #232323;\n",
              "  color: #f1f1f1;\n",
              "}\n",
              "#T_f7ef2_row9_col14 {\n",
              "  font-size: 6pt;\n",
              "  background-color: #c2c2c2;\n",
              "  color: #000000;\n",
              "}\n",
              "#T_f7ef2_row9_col17 {\n",
              "  font-size: 6pt;\n",
              "  background-color: #080808;\n",
              "  color: #f1f1f1;\n",
              "}\n",
              "#T_f7ef2_row9_col18 {\n",
              "  font-size: 6pt;\n",
              "  background-color: #c4c4c4;\n",
              "  color: #000000;\n",
              "}\n",
              "</style>\n",
              "<table id=\"T_f7ef2\" class=\"dataframe\">\n",
              "  <thead>\n",
              "    <tr>\n",
              "      <th class=\"blank level0\" >&nbsp;</th>\n",
              "      <th id=\"T_f7ef2_level0_col0\" class=\"col_heading level0 col0\" >0</th>\n",
              "      <th id=\"T_f7ef2_level0_col1\" class=\"col_heading level0 col1\" >1</th>\n",
              "      <th id=\"T_f7ef2_level0_col2\" class=\"col_heading level0 col2\" >2</th>\n",
              "      <th id=\"T_f7ef2_level0_col3\" class=\"col_heading level0 col3\" >3</th>\n",
              "      <th id=\"T_f7ef2_level0_col4\" class=\"col_heading level0 col4\" >4</th>\n",
              "      <th id=\"T_f7ef2_level0_col5\" class=\"col_heading level0 col5\" >5</th>\n",
              "      <th id=\"T_f7ef2_level0_col6\" class=\"col_heading level0 col6\" >6</th>\n",
              "      <th id=\"T_f7ef2_level0_col7\" class=\"col_heading level0 col7\" >7</th>\n",
              "      <th id=\"T_f7ef2_level0_col8\" class=\"col_heading level0 col8\" >8</th>\n",
              "      <th id=\"T_f7ef2_level0_col9\" class=\"col_heading level0 col9\" >9</th>\n",
              "      <th id=\"T_f7ef2_level0_col10\" class=\"col_heading level0 col10\" >10</th>\n",
              "      <th id=\"T_f7ef2_level0_col11\" class=\"col_heading level0 col11\" >11</th>\n",
              "      <th id=\"T_f7ef2_level0_col12\" class=\"col_heading level0 col12\" >12</th>\n",
              "      <th id=\"T_f7ef2_level0_col13\" class=\"col_heading level0 col13\" >13</th>\n",
              "      <th id=\"T_f7ef2_level0_col14\" class=\"col_heading level0 col14\" >14</th>\n",
              "      <th id=\"T_f7ef2_level0_col15\" class=\"col_heading level0 col15\" >15</th>\n",
              "      <th id=\"T_f7ef2_level0_col16\" class=\"col_heading level0 col16\" >16</th>\n",
              "      <th id=\"T_f7ef2_level0_col17\" class=\"col_heading level0 col17\" >17</th>\n",
              "      <th id=\"T_f7ef2_level0_col18\" class=\"col_heading level0 col18\" >18</th>\n",
              "      <th id=\"T_f7ef2_level0_col19\" class=\"col_heading level0 col19\" >19</th>\n",
              "    </tr>\n",
              "  </thead>\n",
              "  <tbody>\n",
              "    <tr>\n",
              "      <th id=\"T_f7ef2_level0_row0\" class=\"row_heading level0 row0\" >0</th>\n",
              "      <td id=\"T_f7ef2_row0_col0\" class=\"data row0 col0\" >0</td>\n",
              "      <td id=\"T_f7ef2_row0_col1\" class=\"data row0 col1\" >0</td>\n",
              "      <td id=\"T_f7ef2_row0_col2\" class=\"data row0 col2\" >0</td>\n",
              "      <td id=\"T_f7ef2_row0_col3\" class=\"data row0 col3\" >0</td>\n",
              "      <td id=\"T_f7ef2_row0_col4\" class=\"data row0 col4\" >0</td>\n",
              "      <td id=\"T_f7ef2_row0_col5\" class=\"data row0 col5\" >0</td>\n",
              "      <td id=\"T_f7ef2_row0_col6\" class=\"data row0 col6\" >0</td>\n",
              "      <td id=\"T_f7ef2_row0_col7\" class=\"data row0 col7\" >0</td>\n",
              "      <td id=\"T_f7ef2_row0_col8\" class=\"data row0 col8\" >0</td>\n",
              "      <td id=\"T_f7ef2_row0_col9\" class=\"data row0 col9\" >0</td>\n",
              "      <td id=\"T_f7ef2_row0_col10\" class=\"data row0 col10\" >0</td>\n",
              "      <td id=\"T_f7ef2_row0_col11\" class=\"data row0 col11\" >0</td>\n",
              "      <td id=\"T_f7ef2_row0_col12\" class=\"data row0 col12\" >0</td>\n",
              "      <td id=\"T_f7ef2_row0_col13\" class=\"data row0 col13\" >0</td>\n",
              "      <td id=\"T_f7ef2_row0_col14\" class=\"data row0 col14\" >0</td>\n",
              "      <td id=\"T_f7ef2_row0_col15\" class=\"data row0 col15\" >0</td>\n",
              "      <td id=\"T_f7ef2_row0_col16\" class=\"data row0 col16\" >0</td>\n",
              "      <td id=\"T_f7ef2_row0_col17\" class=\"data row0 col17\" >0</td>\n",
              "      <td id=\"T_f7ef2_row0_col18\" class=\"data row0 col18\" >0</td>\n",
              "      <td id=\"T_f7ef2_row0_col19\" class=\"data row0 col19\" >0</td>\n",
              "    </tr>\n",
              "    <tr>\n",
              "      <th id=\"T_f7ef2_level0_row1\" class=\"row_heading level0 row1\" >1</th>\n",
              "      <td id=\"T_f7ef2_row1_col0\" class=\"data row1 col0\" >0</td>\n",
              "      <td id=\"T_f7ef2_row1_col1\" class=\"data row1 col1\" >0</td>\n",
              "      <td id=\"T_f7ef2_row1_col2\" class=\"data row1 col2\" >0</td>\n",
              "      <td id=\"T_f7ef2_row1_col3\" class=\"data row1 col3\" >0</td>\n",
              "      <td id=\"T_f7ef2_row1_col4\" class=\"data row1 col4\" >0</td>\n",
              "      <td id=\"T_f7ef2_row1_col5\" class=\"data row1 col5\" >0</td>\n",
              "      <td id=\"T_f7ef2_row1_col6\" class=\"data row1 col6\" >0</td>\n",
              "      <td id=\"T_f7ef2_row1_col7\" class=\"data row1 col7\" >0</td>\n",
              "      <td id=\"T_f7ef2_row1_col8\" class=\"data row1 col8\" >0</td>\n",
              "      <td id=\"T_f7ef2_row1_col9\" class=\"data row1 col9\" >0</td>\n",
              "      <td id=\"T_f7ef2_row1_col10\" class=\"data row1 col10\" >0</td>\n",
              "      <td id=\"T_f7ef2_row1_col11\" class=\"data row1 col11\" >0</td>\n",
              "      <td id=\"T_f7ef2_row1_col12\" class=\"data row1 col12\" >0</td>\n",
              "      <td id=\"T_f7ef2_row1_col13\" class=\"data row1 col13\" >0</td>\n",
              "      <td id=\"T_f7ef2_row1_col14\" class=\"data row1 col14\" >0</td>\n",
              "      <td id=\"T_f7ef2_row1_col15\" class=\"data row1 col15\" >0</td>\n",
              "      <td id=\"T_f7ef2_row1_col16\" class=\"data row1 col16\" >0</td>\n",
              "      <td id=\"T_f7ef2_row1_col17\" class=\"data row1 col17\" >0</td>\n",
              "      <td id=\"T_f7ef2_row1_col18\" class=\"data row1 col18\" >0</td>\n",
              "      <td id=\"T_f7ef2_row1_col19\" class=\"data row1 col19\" >0</td>\n",
              "    </tr>\n",
              "    <tr>\n",
              "      <th id=\"T_f7ef2_level0_row2\" class=\"row_heading level0 row2\" >2</th>\n",
              "      <td id=\"T_f7ef2_row2_col0\" class=\"data row2 col0\" >0</td>\n",
              "      <td id=\"T_f7ef2_row2_col1\" class=\"data row2 col1\" >0</td>\n",
              "      <td id=\"T_f7ef2_row2_col2\" class=\"data row2 col2\" >0</td>\n",
              "      <td id=\"T_f7ef2_row2_col3\" class=\"data row2 col3\" >0</td>\n",
              "      <td id=\"T_f7ef2_row2_col4\" class=\"data row2 col4\" >0</td>\n",
              "      <td id=\"T_f7ef2_row2_col5\" class=\"data row2 col5\" >0</td>\n",
              "      <td id=\"T_f7ef2_row2_col6\" class=\"data row2 col6\" >0</td>\n",
              "      <td id=\"T_f7ef2_row2_col7\" class=\"data row2 col7\" >0</td>\n",
              "      <td id=\"T_f7ef2_row2_col8\" class=\"data row2 col8\" >0</td>\n",
              "      <td id=\"T_f7ef2_row2_col9\" class=\"data row2 col9\" >0</td>\n",
              "      <td id=\"T_f7ef2_row2_col10\" class=\"data row2 col10\" >0</td>\n",
              "      <td id=\"T_f7ef2_row2_col11\" class=\"data row2 col11\" >0</td>\n",
              "      <td id=\"T_f7ef2_row2_col12\" class=\"data row2 col12\" >0</td>\n",
              "      <td id=\"T_f7ef2_row2_col13\" class=\"data row2 col13\" >0</td>\n",
              "      <td id=\"T_f7ef2_row2_col14\" class=\"data row2 col14\" >0</td>\n",
              "      <td id=\"T_f7ef2_row2_col15\" class=\"data row2 col15\" >0</td>\n",
              "      <td id=\"T_f7ef2_row2_col16\" class=\"data row2 col16\" >0</td>\n",
              "      <td id=\"T_f7ef2_row2_col17\" class=\"data row2 col17\" >0</td>\n",
              "      <td id=\"T_f7ef2_row2_col18\" class=\"data row2 col18\" >0</td>\n",
              "      <td id=\"T_f7ef2_row2_col19\" class=\"data row2 col19\" >0</td>\n",
              "    </tr>\n",
              "    <tr>\n",
              "      <th id=\"T_f7ef2_level0_row3\" class=\"row_heading level0 row3\" >3</th>\n",
              "      <td id=\"T_f7ef2_row3_col0\" class=\"data row3 col0\" >0</td>\n",
              "      <td id=\"T_f7ef2_row3_col1\" class=\"data row3 col1\" >0</td>\n",
              "      <td id=\"T_f7ef2_row3_col2\" class=\"data row3 col2\" >0</td>\n",
              "      <td id=\"T_f7ef2_row3_col3\" class=\"data row3 col3\" >0</td>\n",
              "      <td id=\"T_f7ef2_row3_col4\" class=\"data row3 col4\" >0</td>\n",
              "      <td id=\"T_f7ef2_row3_col5\" class=\"data row3 col5\" >0</td>\n",
              "      <td id=\"T_f7ef2_row3_col6\" class=\"data row3 col6\" >0</td>\n",
              "      <td id=\"T_f7ef2_row3_col7\" class=\"data row3 col7\" >0</td>\n",
              "      <td id=\"T_f7ef2_row3_col8\" class=\"data row3 col8\" >0</td>\n",
              "      <td id=\"T_f7ef2_row3_col9\" class=\"data row3 col9\" >0</td>\n",
              "      <td id=\"T_f7ef2_row3_col10\" class=\"data row3 col10\" >0</td>\n",
              "      <td id=\"T_f7ef2_row3_col11\" class=\"data row3 col11\" >0</td>\n",
              "      <td id=\"T_f7ef2_row3_col12\" class=\"data row3 col12\" >0</td>\n",
              "      <td id=\"T_f7ef2_row3_col13\" class=\"data row3 col13\" >0</td>\n",
              "      <td id=\"T_f7ef2_row3_col14\" class=\"data row3 col14\" >0</td>\n",
              "      <td id=\"T_f7ef2_row3_col15\" class=\"data row3 col15\" >0</td>\n",
              "      <td id=\"T_f7ef2_row3_col16\" class=\"data row3 col16\" >0</td>\n",
              "      <td id=\"T_f7ef2_row3_col17\" class=\"data row3 col17\" >0</td>\n",
              "      <td id=\"T_f7ef2_row3_col18\" class=\"data row3 col18\" >0</td>\n",
              "      <td id=\"T_f7ef2_row3_col19\" class=\"data row3 col19\" >0</td>\n",
              "    </tr>\n",
              "    <tr>\n",
              "      <th id=\"T_f7ef2_level0_row4\" class=\"row_heading level0 row4\" >4</th>\n",
              "      <td id=\"T_f7ef2_row4_col0\" class=\"data row4 col0\" >0</td>\n",
              "      <td id=\"T_f7ef2_row4_col1\" class=\"data row4 col1\" >0</td>\n",
              "      <td id=\"T_f7ef2_row4_col2\" class=\"data row4 col2\" >0</td>\n",
              "      <td id=\"T_f7ef2_row4_col3\" class=\"data row4 col3\" >0</td>\n",
              "      <td id=\"T_f7ef2_row4_col4\" class=\"data row4 col4\" >0</td>\n",
              "      <td id=\"T_f7ef2_row4_col5\" class=\"data row4 col5\" >0</td>\n",
              "      <td id=\"T_f7ef2_row4_col6\" class=\"data row4 col6\" >0</td>\n",
              "      <td id=\"T_f7ef2_row4_col7\" class=\"data row4 col7\" >0</td>\n",
              "      <td id=\"T_f7ef2_row4_col8\" class=\"data row4 col8\" >0</td>\n",
              "      <td id=\"T_f7ef2_row4_col9\" class=\"data row4 col9\" >0</td>\n",
              "      <td id=\"T_f7ef2_row4_col10\" class=\"data row4 col10\" >0</td>\n",
              "      <td id=\"T_f7ef2_row4_col11\" class=\"data row4 col11\" >0</td>\n",
              "      <td id=\"T_f7ef2_row4_col12\" class=\"data row4 col12\" >0</td>\n",
              "      <td id=\"T_f7ef2_row4_col13\" class=\"data row4 col13\" >0</td>\n",
              "      <td id=\"T_f7ef2_row4_col14\" class=\"data row4 col14\" >0</td>\n",
              "      <td id=\"T_f7ef2_row4_col15\" class=\"data row4 col15\" >0</td>\n",
              "      <td id=\"T_f7ef2_row4_col16\" class=\"data row4 col16\" >0</td>\n",
              "      <td id=\"T_f7ef2_row4_col17\" class=\"data row4 col17\" >0</td>\n",
              "      <td id=\"T_f7ef2_row4_col18\" class=\"data row4 col18\" >0</td>\n",
              "      <td id=\"T_f7ef2_row4_col19\" class=\"data row4 col19\" >0</td>\n",
              "    </tr>\n",
              "    <tr>\n",
              "      <th id=\"T_f7ef2_level0_row5\" class=\"row_heading level0 row5\" >5</th>\n",
              "      <td id=\"T_f7ef2_row5_col0\" class=\"data row5 col0\" >0</td>\n",
              "      <td id=\"T_f7ef2_row5_col1\" class=\"data row5 col1\" >0</td>\n",
              "      <td id=\"T_f7ef2_row5_col2\" class=\"data row5 col2\" >0</td>\n",
              "      <td id=\"T_f7ef2_row5_col3\" class=\"data row5 col3\" >12</td>\n",
              "      <td id=\"T_f7ef2_row5_col4\" class=\"data row5 col4\" >99</td>\n",
              "      <td id=\"T_f7ef2_row5_col5\" class=\"data row5 col5\" >91</td>\n",
              "      <td id=\"T_f7ef2_row5_col6\" class=\"data row5 col6\" >142</td>\n",
              "      <td id=\"T_f7ef2_row5_col7\" class=\"data row5 col7\" >155</td>\n",
              "      <td id=\"T_f7ef2_row5_col8\" class=\"data row5 col8\" >246</td>\n",
              "      <td id=\"T_f7ef2_row5_col9\" class=\"data row5 col9\" >182</td>\n",
              "      <td id=\"T_f7ef2_row5_col10\" class=\"data row5 col10\" >155</td>\n",
              "      <td id=\"T_f7ef2_row5_col11\" class=\"data row5 col11\" >155</td>\n",
              "      <td id=\"T_f7ef2_row5_col12\" class=\"data row5 col12\" >155</td>\n",
              "      <td id=\"T_f7ef2_row5_col13\" class=\"data row5 col13\" >155</td>\n",
              "      <td id=\"T_f7ef2_row5_col14\" class=\"data row5 col14\" >131</td>\n",
              "      <td id=\"T_f7ef2_row5_col15\" class=\"data row5 col15\" >52</td>\n",
              "      <td id=\"T_f7ef2_row5_col16\" class=\"data row5 col16\" >0</td>\n",
              "      <td id=\"T_f7ef2_row5_col17\" class=\"data row5 col17\" >0</td>\n",
              "      <td id=\"T_f7ef2_row5_col18\" class=\"data row5 col18\" >0</td>\n",
              "      <td id=\"T_f7ef2_row5_col19\" class=\"data row5 col19\" >0</td>\n",
              "    </tr>\n",
              "    <tr>\n",
              "      <th id=\"T_f7ef2_level0_row6\" class=\"row_heading level0 row6\" >6</th>\n",
              "      <td id=\"T_f7ef2_row6_col0\" class=\"data row6 col0\" >0</td>\n",
              "      <td id=\"T_f7ef2_row6_col1\" class=\"data row6 col1\" >0</td>\n",
              "      <td id=\"T_f7ef2_row6_col2\" class=\"data row6 col2\" >0</td>\n",
              "      <td id=\"T_f7ef2_row6_col3\" class=\"data row6 col3\" >138</td>\n",
              "      <td id=\"T_f7ef2_row6_col4\" class=\"data row6 col4\" >254</td>\n",
              "      <td id=\"T_f7ef2_row6_col5\" class=\"data row6 col5\" >254</td>\n",
              "      <td id=\"T_f7ef2_row6_col6\" class=\"data row6 col6\" >254</td>\n",
              "      <td id=\"T_f7ef2_row6_col7\" class=\"data row6 col7\" >254</td>\n",
              "      <td id=\"T_f7ef2_row6_col8\" class=\"data row6 col8\" >254</td>\n",
              "      <td id=\"T_f7ef2_row6_col9\" class=\"data row6 col9\" >254</td>\n",
              "      <td id=\"T_f7ef2_row6_col10\" class=\"data row6 col10\" >254</td>\n",
              "      <td id=\"T_f7ef2_row6_col11\" class=\"data row6 col11\" >254</td>\n",
              "      <td id=\"T_f7ef2_row6_col12\" class=\"data row6 col12\" >254</td>\n",
              "      <td id=\"T_f7ef2_row6_col13\" class=\"data row6 col13\" >254</td>\n",
              "      <td id=\"T_f7ef2_row6_col14\" class=\"data row6 col14\" >254</td>\n",
              "      <td id=\"T_f7ef2_row6_col15\" class=\"data row6 col15\" >252</td>\n",
              "      <td id=\"T_f7ef2_row6_col16\" class=\"data row6 col16\" >210</td>\n",
              "      <td id=\"T_f7ef2_row6_col17\" class=\"data row6 col17\" >122</td>\n",
              "      <td id=\"T_f7ef2_row6_col18\" class=\"data row6 col18\" >33</td>\n",
              "      <td id=\"T_f7ef2_row6_col19\" class=\"data row6 col19\" >0</td>\n",
              "    </tr>\n",
              "    <tr>\n",
              "      <th id=\"T_f7ef2_level0_row7\" class=\"row_heading level0 row7\" >7</th>\n",
              "      <td id=\"T_f7ef2_row7_col0\" class=\"data row7 col0\" >0</td>\n",
              "      <td id=\"T_f7ef2_row7_col1\" class=\"data row7 col1\" >0</td>\n",
              "      <td id=\"T_f7ef2_row7_col2\" class=\"data row7 col2\" >0</td>\n",
              "      <td id=\"T_f7ef2_row7_col3\" class=\"data row7 col3\" >220</td>\n",
              "      <td id=\"T_f7ef2_row7_col4\" class=\"data row7 col4\" >254</td>\n",
              "      <td id=\"T_f7ef2_row7_col5\" class=\"data row7 col5\" >254</td>\n",
              "      <td id=\"T_f7ef2_row7_col6\" class=\"data row7 col6\" >254</td>\n",
              "      <td id=\"T_f7ef2_row7_col7\" class=\"data row7 col7\" >235</td>\n",
              "      <td id=\"T_f7ef2_row7_col8\" class=\"data row7 col8\" >189</td>\n",
              "      <td id=\"T_f7ef2_row7_col9\" class=\"data row7 col9\" >189</td>\n",
              "      <td id=\"T_f7ef2_row7_col10\" class=\"data row7 col10\" >189</td>\n",
              "      <td id=\"T_f7ef2_row7_col11\" class=\"data row7 col11\" >189</td>\n",
              "      <td id=\"T_f7ef2_row7_col12\" class=\"data row7 col12\" >150</td>\n",
              "      <td id=\"T_f7ef2_row7_col13\" class=\"data row7 col13\" >189</td>\n",
              "      <td id=\"T_f7ef2_row7_col14\" class=\"data row7 col14\" >205</td>\n",
              "      <td id=\"T_f7ef2_row7_col15\" class=\"data row7 col15\" >254</td>\n",
              "      <td id=\"T_f7ef2_row7_col16\" class=\"data row7 col16\" >254</td>\n",
              "      <td id=\"T_f7ef2_row7_col17\" class=\"data row7 col17\" >254</td>\n",
              "      <td id=\"T_f7ef2_row7_col18\" class=\"data row7 col18\" >75</td>\n",
              "      <td id=\"T_f7ef2_row7_col19\" class=\"data row7 col19\" >0</td>\n",
              "    </tr>\n",
              "    <tr>\n",
              "      <th id=\"T_f7ef2_level0_row8\" class=\"row_heading level0 row8\" >8</th>\n",
              "      <td id=\"T_f7ef2_row8_col0\" class=\"data row8 col0\" >0</td>\n",
              "      <td id=\"T_f7ef2_row8_col1\" class=\"data row8 col1\" >0</td>\n",
              "      <td id=\"T_f7ef2_row8_col2\" class=\"data row8 col2\" >0</td>\n",
              "      <td id=\"T_f7ef2_row8_col3\" class=\"data row8 col3\" >35</td>\n",
              "      <td id=\"T_f7ef2_row8_col4\" class=\"data row8 col4\" >74</td>\n",
              "      <td id=\"T_f7ef2_row8_col5\" class=\"data row8 col5\" >35</td>\n",
              "      <td id=\"T_f7ef2_row8_col6\" class=\"data row8 col6\" >35</td>\n",
              "      <td id=\"T_f7ef2_row8_col7\" class=\"data row8 col7\" >25</td>\n",
              "      <td id=\"T_f7ef2_row8_col8\" class=\"data row8 col8\" >0</td>\n",
              "      <td id=\"T_f7ef2_row8_col9\" class=\"data row8 col9\" >0</td>\n",
              "      <td id=\"T_f7ef2_row8_col10\" class=\"data row8 col10\" >0</td>\n",
              "      <td id=\"T_f7ef2_row8_col11\" class=\"data row8 col11\" >0</td>\n",
              "      <td id=\"T_f7ef2_row8_col12\" class=\"data row8 col12\" >0</td>\n",
              "      <td id=\"T_f7ef2_row8_col13\" class=\"data row8 col13\" >0</td>\n",
              "      <td id=\"T_f7ef2_row8_col14\" class=\"data row8 col14\" >13</td>\n",
              "      <td id=\"T_f7ef2_row8_col15\" class=\"data row8 col15\" >224</td>\n",
              "      <td id=\"T_f7ef2_row8_col16\" class=\"data row8 col16\" >254</td>\n",
              "      <td id=\"T_f7ef2_row8_col17\" class=\"data row8 col17\" >254</td>\n",
              "      <td id=\"T_f7ef2_row8_col18\" class=\"data row8 col18\" >153</td>\n",
              "      <td id=\"T_f7ef2_row8_col19\" class=\"data row8 col19\" >0</td>\n",
              "    </tr>\n",
              "    <tr>\n",
              "      <th id=\"T_f7ef2_level0_row9\" class=\"row_heading level0 row9\" >9</th>\n",
              "      <td id=\"T_f7ef2_row9_col0\" class=\"data row9 col0\" >0</td>\n",
              "      <td id=\"T_f7ef2_row9_col1\" class=\"data row9 col1\" >0</td>\n",
              "      <td id=\"T_f7ef2_row9_col2\" class=\"data row9 col2\" >0</td>\n",
              "      <td id=\"T_f7ef2_row9_col3\" class=\"data row9 col3\" >0</td>\n",
              "      <td id=\"T_f7ef2_row9_col4\" class=\"data row9 col4\" >0</td>\n",
              "      <td id=\"T_f7ef2_row9_col5\" class=\"data row9 col5\" >0</td>\n",
              "      <td id=\"T_f7ef2_row9_col6\" class=\"data row9 col6\" >0</td>\n",
              "      <td id=\"T_f7ef2_row9_col7\" class=\"data row9 col7\" >0</td>\n",
              "      <td id=\"T_f7ef2_row9_col8\" class=\"data row9 col8\" >0</td>\n",
              "      <td id=\"T_f7ef2_row9_col9\" class=\"data row9 col9\" >0</td>\n",
              "      <td id=\"T_f7ef2_row9_col10\" class=\"data row9 col10\" >0</td>\n",
              "      <td id=\"T_f7ef2_row9_col11\" class=\"data row9 col11\" >0</td>\n",
              "      <td id=\"T_f7ef2_row9_col12\" class=\"data row9 col12\" >0</td>\n",
              "      <td id=\"T_f7ef2_row9_col13\" class=\"data row9 col13\" >0</td>\n",
              "      <td id=\"T_f7ef2_row9_col14\" class=\"data row9 col14\" >90</td>\n",
              "      <td id=\"T_f7ef2_row9_col15\" class=\"data row9 col15\" >254</td>\n",
              "      <td id=\"T_f7ef2_row9_col16\" class=\"data row9 col16\" >254</td>\n",
              "      <td id=\"T_f7ef2_row9_col17\" class=\"data row9 col17\" >247</td>\n",
              "      <td id=\"T_f7ef2_row9_col18\" class=\"data row9 col18\" >53</td>\n",
              "      <td id=\"T_f7ef2_row9_col19\" class=\"data row9 col19\" >0</td>\n",
              "    </tr>\n",
              "  </tbody>\n",
              "</table>\n"
            ]
          },
          "metadata": {},
          "execution_count": 5
        }
      ]
    },
    {
      "cell_type": "markdown",
      "source": [
        "Top edge at cell 5,8. Repeat our calculation there:"
      ],
      "metadata": {
        "id": "T43_oM8cxbfp"
      }
    },
    {
      "cell_type": "code",
      "source": [
        "(im3_t[4:7, 6:9] * top_edge).sum()"
      ],
      "metadata": {
        "colab": {
          "base_uri": "https://localhost:8080/"
        },
        "id": "AZG4xSwBwtZz",
        "outputId": "1011e9c6-02b1-41e0-cdf7-995af00ab3d5"
      },
      "execution_count": 6,
      "outputs": [
        {
          "output_type": "execute_result",
          "data": {
            "text/plain": [
              "tensor(762.)"
            ]
          },
          "metadata": {},
          "execution_count": 6
        }
      ]
    },
    {
      "cell_type": "markdown",
      "source": [
        "Try the right edge at cell 8, 18:"
      ],
      "metadata": {
        "id": "4gXyiTwj2987"
      }
    },
    {
      "cell_type": "code",
      "source": [
        "(im3_t[7:10, 17:20] * top_edge).sum()"
      ],
      "metadata": {
        "colab": {
          "base_uri": "https://localhost:8080/"
        },
        "id": "Goa-9ymwxiaH",
        "outputId": "3c14978f-4f3b-4c3c-a615-219708e60215"
      },
      "execution_count": 7,
      "outputs": [
        {
          "output_type": "execute_result",
          "data": {
            "text/plain": [
              "tensor(-29.)"
            ]
          },
          "metadata": {},
          "execution_count": 7
        }
      ]
    },
    {
      "cell_type": "markdown",
      "source": [
        "Better idea is to have a row of 1s at the top and -1s at the bottom would detect horizontal edges that go from dark to light.\n",
        "\n",
        "Putting the 1s and -1s in columns vs rows would give us filters that detect vertical edges.\n",
        "\n",
        "Create a function to do this for one location and make sure it matches our result from earlier:"
      ],
      "metadata": {
        "id": "w1Dbry_ZZvqB"
      }
    },
    {
      "cell_type": "code",
      "source": [
        "def apply_kernel(row, col, kernel):\n",
        "  return (im3_t[row-1:row+2, col-1:col+2] * kernel).sum()"
      ],
      "metadata": {
        "id": "bibFDerx3EIM"
      },
      "execution_count": 8,
      "outputs": []
    },
    {
      "cell_type": "code",
      "source": [
        "apply_kernel(5, 7, top_edge)"
      ],
      "metadata": {
        "colab": {
          "base_uri": "https://localhost:8080/"
        },
        "id": "pjnNi6e7aHR5",
        "outputId": "dc92bb7c-4b2b-405c-dbee-34fb45b55586"
      },
      "execution_count": 9,
      "outputs": [
        {
          "output_type": "execute_result",
          "data": {
            "text/plain": [
              "tensor(762.)"
            ]
          },
          "metadata": {},
          "execution_count": 9
        }
      ]
    },
    {
      "cell_type": "markdown",
      "source": [
        "Issue here is that we can't apply this to a corner (like (0, 0)) since there isn't a complete 3x3 square there."
      ],
      "metadata": {
        "id": "tpaxNyNbbXmh"
      }
    },
    {
      "cell_type": "markdown",
      "source": [
        "### Mapping a Convolution Kernel\n",
        "\n",
        "Use a nested list comprehension to get a grid of coordinates:"
      ],
      "metadata": {
        "id": "uv2eUlVCbjSZ"
      }
    },
    {
      "cell_type": "code",
      "source": [
        "[[(i, j) for j in range(1, 5)] for i in range(1, 5)]"
      ],
      "metadata": {
        "colab": {
          "base_uri": "https://localhost:8080/"
        },
        "id": "_tntZJc2aJZf",
        "outputId": "59413278-99fb-48c4-9268-dfd47c3b7c4b"
      },
      "execution_count": 10,
      "outputs": [
        {
          "output_type": "execute_result",
          "data": {
            "text/plain": [
              "[[(1, 1), (1, 2), (1, 3), (1, 4)],\n",
              " [(2, 1), (2, 2), (2, 3), (2, 4)],\n",
              " [(3, 1), (3, 2), (3, 3), (3, 4)],\n",
              " [(4, 1), (4, 2), (4, 3), (4, 4)]]"
            ]
          },
          "metadata": {},
          "execution_count": 10
        }
      ]
    },
    {
      "cell_type": "markdown",
      "source": [
        "Apply our kernel over a coordinate grid:"
      ],
      "metadata": {
        "id": "XYDwPfA8cKCj"
      }
    },
    {
      "cell_type": "code",
      "source": [
        "rng = range(1, 27)\n",
        "\n",
        "top_edge3 = tensor([[apply_kernel(i, j, top_edge) for j in rng] for i in rng])\n",
        "\n",
        "show_image(top_edge3)"
      ],
      "metadata": {
        "colab": {
          "base_uri": "https://localhost:8080/",
          "height": 131
        },
        "id": "vmkbt6vNbu6Y",
        "outputId": "9b11e053-ae61-4c7a-89a8-5644b05ec566"
      },
      "execution_count": 11,
      "outputs": [
        {
          "output_type": "execute_result",
          "data": {
            "text/plain": [
              "<Axes: >"
            ]
          },
          "metadata": {},
          "execution_count": 11
        },
        {
          "output_type": "display_data",
          "data": {
            "text/plain": [
              "<Figure size 100x100 with 1 Axes>"
            ],
            "image/png": "[encoded data removed]"
          },
          "metadata": {}
        }
      ]
    },
    {
      "cell_type": "code",
      "source": [
        "left_edge = tensor([[-1,1,0],\n",
        "                    [-1,1,0],\n",
        "                    [-1,1,0]]).float()\n",
        "\n",
        "left_edge3 = tensor([[apply_kernel(i,j,left_edge) for j in rng] for i in rng])\n",
        "\n",
        "show_image(left_edge3);"
      ],
      "metadata": {
        "colab": {
          "base_uri": "https://localhost:8080/",
          "height": 114
        },
        "id": "ZZ-CUi7FXFPh",
        "outputId": "abd564c9-a716-4954-84b7-165f0e233412"
      },
      "execution_count": 12,
      "outputs": [
        {
          "output_type": "display_data",
          "data": {
            "text/plain": [
              "<Figure size 100x100 with 1 Axes>"
            ],
            "image/png": "[encoded data removed]"
          },
          "metadata": {}
        }
      ]
    },
    {
      "cell_type": "markdown",
      "source": [
        "Notice that the top edges are black and the bottom ones are white, which is what we want."
      ],
      "metadata": {
        "id": "QmlFLQoIVnrx"
      }
    },
    {
      "cell_type": "markdown",
      "source": [
        "### Convolutions in PyTorch\n",
        "\n",
        "PyTorch can do convolutions faster than stock Python. Function is called `F.conv2d` (remember that `F` is a fastai import from `torch.nn.functional`, as recommended by PyTorch).\n",
        "\n",
        "Has the following parameters:\n",
        "\n",
        "* input: input temsor of shape `(minibatch, in_channels, iH, iW)`\n",
        "* weight: filters of shape `(out_channels, in_channels, kH, kW)`\n",
        "\n",
        "where `iH, iW` are the height and width of the image and `kH, kW` are the height and width of our kernel.\n",
        "\n",
        "Note that for this function PyTorch is expecting rank-4 tensors for both of these arguments, mainly because PyTorch can apply a convolution to multiple images at the same time, and can also apply multiple kernels at the same time.\n",
        "\n",
        "Create diagonal-edge kernels too, then stack all four of our edge kernels into a single tensor:"
      ],
      "metadata": {
        "id": "7_IT5zrKVxxh"
      }
    },
    {
      "cell_type": "code",
      "source": [
        "diag1_edge = tensor([[0, -1, 1],\n",
        "                     [-1, 1, 0],\n",
        "                     [1, 0, 0]]).float()\n",
        "\n",
        "diag2_edge = tensor([[1, -1, 0],\n",
        "                     [0, 1, -1],\n",
        "                     [0, 0, 1]]).float()\n",
        "\n",
        "edge_kernels = torch.stack([left_edge, top_edge, diag1_edge, diag2_edge])\n",
        "edge_kernels.shape"
      ],
      "metadata": {
        "colab": {
          "base_uri": "https://localhost:8080/"
        },
        "id": "qFC8WoIvVw5u",
        "outputId": "a0140c16-d628-4a76-e458-49e99c1ded0e"
      },
      "execution_count": 13,
      "outputs": [
        {
          "output_type": "execute_result",
          "data": {
            "text/plain": [
              "torch.Size([4, 3, 3])"
            ]
          },
          "metadata": {},
          "execution_count": 13
        }
      ]
    },
    {
      "cell_type": "markdown",
      "source": [
        "Create a `DataLoader` and sample a mini-batch using the data block API:"
      ],
      "metadata": {
        "id": "FkTkFZ1CXQqN"
      }
    },
    {
      "cell_type": "code",
      "source": [
        "mnist = DataBlock((ImageBlock(cls=PILImageBW), CategoryBlock),\n",
        "                  get_items=get_image_files,\n",
        "                  splitter=GrandparentSplitter(),\n",
        "                  get_y=parent_label)\n",
        "\n",
        "dls = mnist.dataloaders(path)\n",
        "\n",
        "xb, yb = first(dls.valid)\n",
        "xb.shape"
      ],
      "metadata": {
        "colab": {
          "base_uri": "https://localhost:8080/"
        },
        "id": "6Phxkm9YcVS7",
        "outputId": "13fe7247-b076-4dbb-876a-babd547b6060"
      },
      "execution_count": 14,
      "outputs": [
        {
          "output_type": "execute_result",
          "data": {
            "text/plain": [
              "torch.Size([64, 1, 28, 28])"
            ]
          },
          "metadata": {},
          "execution_count": 14
        }
      ]
    },
    {
      "cell_type": "markdown",
      "source": [
        "fastai puts data onto the GPU by default when using data blocks. Can move it to the CPU:"
      ],
      "metadata": {
        "id": "_Mzycs0nXlJo"
      }
    },
    {
      "cell_type": "code",
      "source": [
        "xb, yb = to_cpu(xb), to_cpu(yb)"
      ],
      "metadata": {
        "id": "E-tq5p1LXifi"
      },
      "execution_count": 15,
      "outputs": []
    },
    {
      "cell_type": "markdown",
      "source": [
        "Here, one batch has 64 images, each of 1 channel, with 28x28 pixels. `F.conv2d` can handle multichannel (i.e. color) images too.\n",
        "\n",
        "*Channel*: A single basic color in an image. For color images, there are three channels: red, greed, and blue.\n",
        "\n",
        "PyTorch represents an image as a rank-3 tensor, with dimensions `[channels, rows, columns]`.\n",
        "\n",
        "Kernels passed to `F.conv2d` need to be rank-4 tensors: `[channels_in, features_out, rows, columns]`.\n",
        "\n",
        "Need to tell PyTorch that the number of input channels in the kernel is one. To do that, can inser an axis of size one (aka a unit axis) in the first location. To insert a unit axis into a tensor, can use the `unsqueeze` method."
      ],
      "metadata": {
        "id": "DeKpUx5mAK6d"
      }
    },
    {
      "cell_type": "code",
      "source": [
        "edge_kernels.shape, edge_kernels.unsqueeze(1).shape"
      ],
      "metadata": {
        "colab": {
          "base_uri": "https://localhost:8080/"
        },
        "id": "2KuwhItnA-Ki",
        "outputId": "1cc4927d-3c1f-4654-f3bc-cfb9af5e60cc"
      },
      "execution_count": 16,
      "outputs": [
        {
          "output_type": "execute_result",
          "data": {
            "text/plain": [
              "(torch.Size([4, 3, 3]), torch.Size([4, 1, 3, 3]))"
            ]
          },
          "metadata": {},
          "execution_count": 16
        }
      ]
    },
    {
      "cell_type": "code",
      "source": [
        "edge_kernels = edge_kernels.unsqueeze(1)"
      ],
      "metadata": {
        "id": "LwKrKxwyBBF2"
      },
      "execution_count": 17,
      "outputs": []
    },
    {
      "cell_type": "code",
      "source": [
        "batch_features = F.conv2d(xb, edge_kernels)\n",
        "batch_features.shape"
      ],
      "metadata": {
        "colab": {
          "base_uri": "https://localhost:8080/"
        },
        "id": "yzUDadzgBOdc",
        "outputId": "bc92b0cc-7724-43c8-d593-3cbf868c964a"
      },
      "execution_count": 18,
      "outputs": [
        {
          "output_type": "execute_result",
          "data": {
            "text/plain": [
              "torch.Size([64, 4, 26, 26])"
            ]
          },
          "metadata": {},
          "execution_count": 18
        }
      ]
    },
    {
      "cell_type": "markdown",
      "source": [
        "Gave 64 images in the mini-batch, 4 kernels, and 26x26 edge maps.\n",
        "\n",
        "Get the same result as when we did this manually:"
      ],
      "metadata": {
        "id": "pjPON4pgBhrn"
      }
    },
    {
      "cell_type": "code",
      "source": [
        "show_image(batch_features[0, 0])"
      ],
      "metadata": {
        "colab": {
          "base_uri": "https://localhost:8080/",
          "height": 131
        },
        "id": "1Muoj07BBe2a",
        "outputId": "09922283-dd0f-4277-eba4-14087e6b7fd6"
      },
      "execution_count": 19,
      "outputs": [
        {
          "output_type": "execute_result",
          "data": {
            "text/plain": [
              "<Axes: >"
            ]
          },
          "metadata": {},
          "execution_count": 19
        },
        {
          "output_type": "display_data",
          "data": {
            "text/plain": [
              "<Figure size 100x100 with 1 Axes>"
            ],
            "image/png": "[encoded data removed]"
          },
          "metadata": {}
        }
      ]
    },
    {
      "cell_type": "markdown",
      "source": [
        "### Strides and Padding"
      ],
      "metadata": {
        "id": "C7oi_MZsB6ZH"
      }
    },
    {
      "cell_type": "markdown",
      "source": [
        "Padding allows us to ensure that the output activation map is the same size as the original image (i.e. not losing any pixels after the convolution), which can make things a lot simpler when we construct our architectures.\n",
        "\n",
        "Padding is what we do to the pixels on the corners of an image.\n",
        "\n",
        "A couple other notes about CNNs:\n",
        "\n",
        "* A convolution can be represented as a special kind of matrix multiplication with two special properties:\n",
        "\n",
        "  * The bias term is the same for each section of the image.\n",
        "  * Some of the weights are equal, and while they are trainable, they must remain equal. These are called *shared weights*."
      ],
      "metadata": {
        "id": "LG7KsLEqB81b"
      }
    },
    {
      "cell_type": "markdown",
      "source": [
        "### Our First Convolutional Neural Network"
      ],
      "metadata": {
        "id": "OV8JkKXaDzgU"
      }
    },
    {
      "cell_type": "markdown",
      "source": [
        "There's no reason to think that some specific edge filters are useful kernels. Best thing to do would be to learn the values of the kernels.\n",
        "\n",
        "This can be done using SGD. Essentially the model will learn the features that are useful for classification.\n",
        "\n",
        "A CNN is created when we use convolutions instead of (or in addition to) regular linear layers."
      ],
      "metadata": {
        "id": "1nabn8KyEFaQ"
      }
    },
    {
      "cell_type": "markdown",
      "source": [
        "### Creating the CNN"
      ],
      "metadata": {
        "id": "eDyXDLveE1E9"
      }
    },
    {
      "cell_type": "code",
      "source": [
        "simple_net = nn.Sequential(\n",
        "    nn.Linear(28*28, 30),\n",
        "    nn.ReLU(),\n",
        "    nn.Linear(30, 1)\n",
        ")"
      ],
      "metadata": {
        "id": "H4TonxuaBoxg"
      },
      "execution_count": 20,
      "outputs": []
    },
    {
      "cell_type": "markdown",
      "source": [
        "View model's definition:"
      ],
      "metadata": {
        "id": "k-Js4cmQE8dv"
      }
    },
    {
      "cell_type": "code",
      "source": [
        "simple_net"
      ],
      "metadata": {
        "colab": {
          "base_uri": "https://localhost:8080/"
        },
        "id": "9m8pGD05E70y",
        "outputId": "f47f5796-c1b2-4c02-92c5-6c4440044513"
      },
      "execution_count": 21,
      "outputs": [
        {
          "output_type": "execute_result",
          "data": {
            "text/plain": [
              "Sequential(\n",
              "  (0): Linear(in_features=784, out_features=30, bias=True)\n",
              "  (1): ReLU()\n",
              "  (2): Linear(in_features=30, out_features=1, bias=True)\n",
              ")"
            ]
          },
          "metadata": {},
          "execution_count": 21
        }
      ]
    },
    {
      "cell_type": "markdown",
      "source": [
        "Want to create a similar architecture to this, but using convolutional layers instead of linear ones.\n",
        "\n",
        "`nn.Conv2d` is the module equivalent of `F.conv2d`. It creates the weight matrix automatically for us:"
      ],
      "metadata": {
        "id": "QUCT3xiFFlSs"
      }
    },
    {
      "cell_type": "code",
      "source": [
        "broken_cnn = sequential(\n",
        "    nn.Conv2d(1, 30, kernel_size=3, padding=1),\n",
        "    nn.ReLU(),\n",
        "    nn.Conv2d(30, 1, kernel_size=3, padding=1)\n",
        ")"
      ],
      "metadata": {
        "id": "4WF6G7yAE-0s"
      },
      "execution_count": 22,
      "outputs": []
    },
    {
      "cell_type": "code",
      "source": [
        "broken_cnn(xb).shape"
      ],
      "metadata": {
        "colab": {
          "base_uri": "https://localhost:8080/"
        },
        "id": "SQXWJB_0F31u",
        "outputId": "1f7eef2d-b786-4538-da18-e1df533d6a81"
      },
      "execution_count": 23,
      "outputs": [
        {
          "output_type": "execute_result",
          "data": {
            "text/plain": [
              "torch.Size([64, 1, 28, 28])"
            ]
          },
          "metadata": {},
          "execution_count": 23
        }
      ]
    },
    {
      "cell_type": "markdown",
      "source": [
        "Can't use this to do classification since we need a single output activation per image.\n",
        "\n",
        "Can deal with this by using a bunch of stride-2 convolutions so that the final layer is size 1. In other words, after one stride-2 convolution the size will be 14x14, then 7x7, 4x4, 2x2, and then 1.\n",
        "\n",
        "Let's try that:"
      ],
      "metadata": {
        "id": "uIctxt6BINYI"
      }
    },
    {
      "cell_type": "code",
      "source": [
        "def conv(ni, nf, ks=3, act=True):\n",
        "  res = nn.Conv2d(ni, nf, stride=2, kernel_size=ks, padding=ks//2)\n",
        "  if act: res = nn.Sequential(res, nn.ReLU())\n",
        "  return res"
      ],
      "metadata": {
        "id": "NIqY5ba5IMJm"
      },
      "execution_count": 24,
      "outputs": []
    },
    {
      "cell_type": "markdown",
      "source": [
        "> jargon: channels and features: These two terms are largely used interchangeably, and refer to the size of the second axis of a weight matrix, which is, the number of activations per grid cell after a convolution. _Features_ is never used to refer to the input data, but _channels_ can refer to either the input data (generally channels are colors) or activations inside the network."
      ],
      "metadata": {
        "id": "Ec4HEei4IryN"
      }
    },
    {
      "cell_type": "markdown",
      "source": [
        "Building a simple CNN:"
      ],
      "metadata": {
        "id": "mSEoYnl9JH1M"
      }
    },
    {
      "cell_type": "code",
      "source": [
        "simple_cnn = sequential(\n",
        "    conv(1 ,4),            #14x14\n",
        "    conv(4 ,8),            #7x7\n",
        "    conv(8 ,16),           #4x4\n",
        "    conv(16,32),           #2x2\n",
        "    conv(32,2, act=False), #1x1\n",
        "    Flatten(),\n",
        ")"
      ],
      "metadata": {
        "id": "jwOcPNlMIn0d"
      },
      "execution_count": 25,
      "outputs": []
    },
    {
      "cell_type": "markdown",
      "source": [
        "> j: I like to add comments like the ones here after each convolution to show how large the activation map will be after each layer. These comments assume that the input size is 28*28"
      ],
      "metadata": {
        "id": "8OSMiKJvJMF8"
      }
    },
    {
      "cell_type": "markdown",
      "source": [
        "Now network outputs two activations, which map to the two levels in our labels:"
      ],
      "metadata": {
        "id": "LCmxuO8qJPTb"
      }
    },
    {
      "cell_type": "code",
      "source": [
        "simple_cnn(xb).shape"
      ],
      "metadata": {
        "colab": {
          "base_uri": "https://localhost:8080/"
        },
        "id": "Q37GwiVOJMRx",
        "outputId": "b0727cd6-a614-4cbf-dba0-09d866d4fc24"
      },
      "execution_count": 26,
      "outputs": [
        {
          "output_type": "execute_result",
          "data": {
            "text/plain": [
              "torch.Size([64, 2])"
            ]
          },
          "metadata": {},
          "execution_count": 26
        }
      ]
    },
    {
      "cell_type": "markdown",
      "source": [
        "Create our `Learner`:"
      ],
      "metadata": {
        "id": "OPad0hCKJUrP"
      }
    },
    {
      "cell_type": "code",
      "source": [
        "learn = Learner(dls, simple_cnn, loss_func=F.cross_entropy, metrics=accuracy)"
      ],
      "metadata": {
        "id": "7gyESUboJT4h"
      },
      "execution_count": 27,
      "outputs": []
    },
    {
      "cell_type": "code",
      "source": [
        "learn.summary()"
      ],
      "metadata": {
        "colab": {
          "base_uri": "https://localhost:8080/",
          "height": 694
        },
        "id": "gLY9VOiQJcWo",
        "outputId": "7458d4c5-31d6-4d24-b951-773d534b5364"
      },
      "execution_count": 28,
      "outputs": [
        {
          "output_type": "display_data",
          "data": {
            "text/plain": [
              "<IPython.core.display.HTML object>"
            ],
            "text/html": [
              "\n",
              "<style>\n",
              "    /* Turns off some styling */\n",
              "    progress {\n",
              "        /* gets rid of default border in Firefox and Opera. */\n",
              "        border: none;\n",
              "        /* Needs to be in here for Safari polyfill so background images work as expected. */\n",
              "        background-size: auto;\n",
              "    }\n",
              "    progress:not([value]), progress:not([value])::-webkit-progress-bar {\n",
              "        background: repeating-linear-gradient(45deg, #7e7e7e, #7e7e7e 10px, #5c5c5c 10px, #5c5c5c 20px);\n",
              "    }\n",
              "    .progress-bar-interrupted, .progress-bar-interrupted::-webkit-progress-bar {\n",
              "        background: #F44336;\n",
              "    }\n",
              "</style>\n"
            ]
          },
          "metadata": {}
        },
        {
          "output_type": "display_data",
          "data": {
            "text/plain": [
              "<IPython.core.display.HTML object>"
            ],
            "text/html": []
          },
          "metadata": {}
        },
        {
          "output_type": "execute_result",
          "data": {
            "text/plain": [
              "Sequential (Input shape: 64 x 1 x 28 x 28)\n",
              "============================================================================\n",
              "Layer (type)         Output Shape         Param #    Trainable \n",
              "============================================================================\n",
              "                     64 x 4 x 14 x 14    \n",
              "Conv2d                                    40         True      \n",
              "ReLU                                                           \n",
              "____________________________________________________________________________\n",
              "                     64 x 8 x 7 x 7      \n",
              "Conv2d                                    296        True      \n",
              "ReLU                                                           \n",
              "____________________________________________________________________________\n",
              "                     64 x 16 x 4 x 4     \n",
              "Conv2d                                    1168       True      \n",
              "ReLU                                                           \n",
              "____________________________________________________________________________\n",
              "                     64 x 32 x 2 x 2     \n",
              "Conv2d                                    4640       True      \n",
              "ReLU                                                           \n",
              "____________________________________________________________________________\n",
              "                     64 x 2 x 1 x 1      \n",
              "Conv2d                                    578        True      \n",
              "____________________________________________________________________________\n",
              "                     64 x 2              \n",
              "Flatten                                                        \n",
              "____________________________________________________________________________\n",
              "\n",
              "Total params: 6,722\n",
              "Total trainable params: 6,722\n",
              "Total non-trainable params: 0\n",
              "\n",
              "Optimizer used: <function Adam at 0x7f5934cb7a30>\n",
              "Loss function: <function cross_entropy at 0x7f594bdff520>\n",
              "\n",
              "Callbacks:\n",
              "  - TrainEvalCallback\n",
              "  - CastToTensor\n",
              "  - Recorder\n",
              "  - ProgressCallback"
            ],
            "application/vnd.google.colaboratory.intrinsic+json": {
              "type": "string"
            }
          },
          "metadata": {},
          "execution_count": 28
        }
      ]
    },
    {
      "cell_type": "markdown",
      "source": [
        "Train this, but since it's deeper than our other ones, we'll use a lower learning rate and more epochs:"
      ],
      "metadata": {
        "id": "IzWCgiJEJmq3"
      }
    },
    {
      "cell_type": "code",
      "source": [
        "learn.fit_one_cycle(2, 0.01)"
      ],
      "metadata": {
        "colab": {
          "base_uri": "https://localhost:8080/",
          "height": 112
        },
        "id": "WavyqylIJdQg",
        "outputId": "573f0a95-c661-478b-c524-1e1fa305ec1f"
      },
      "execution_count": 29,
      "outputs": [
        {
          "output_type": "display_data",
          "data": {
            "text/plain": [
              "<IPython.core.display.HTML object>"
            ],
            "text/html": [
              "\n",
              "<style>\n",
              "    /* Turns off some styling */\n",
              "    progress {\n",
              "        /* gets rid of default border in Firefox and Opera. */\n",
              "        border: none;\n",
              "        /* Needs to be in here for Safari polyfill so background images work as expected. */\n",
              "        background-size: auto;\n",
              "    }\n",
              "    progress:not([value]), progress:not([value])::-webkit-progress-bar {\n",
              "        background: repeating-linear-gradient(45deg, #7e7e7e, #7e7e7e 10px, #5c5c5c 10px, #5c5c5c 20px);\n",
              "    }\n",
              "    .progress-bar-interrupted, .progress-bar-interrupted::-webkit-progress-bar {\n",
              "        background: #F44336;\n",
              "    }\n",
              "</style>\n"
            ]
          },
          "metadata": {}
        },
        {
          "output_type": "display_data",
          "data": {
            "text/plain": [
              "<IPython.core.display.HTML object>"
            ],
            "text/html": [
              "<table border=\"1\" class=\"dataframe\">\n",
              "  <thead>\n",
              "    <tr style=\"text-align: left;\">\n",
              "      <th>epoch</th>\n",
              "      <th>train_loss</th>\n",
              "      <th>valid_loss</th>\n",
              "      <th>accuracy</th>\n",
              "      <th>time</th>\n",
              "    </tr>\n",
              "  </thead>\n",
              "  <tbody>\n",
              "    <tr>\n",
              "      <td>0</td>\n",
              "      <td>0.061286</td>\n",
              "      <td>0.035448</td>\n",
              "      <td>0.989205</td>\n",
              "      <td>00:27</td>\n",
              "    </tr>\n",
              "    <tr>\n",
              "      <td>1</td>\n",
              "      <td>0.018352</td>\n",
              "      <td>0.025713</td>\n",
              "      <td>0.991659</td>\n",
              "      <td>00:29</td>\n",
              "    </tr>\n",
              "  </tbody>\n",
              "</table>"
            ]
          },
          "metadata": {}
        }
      ]
    },
    {
      "cell_type": "markdown",
      "source": [
        "### Understanding Convolution Arithmetic\n",
        "\n",
        "Have an input of size `64x1x28x28`. Axes are `batch, channel, height, width`. Abbreviated as `NCHW`, where `N` is the batch size. Tensorflow uses the `NHWC` axis order. First layer is:"
      ],
      "metadata": {
        "id": "HzCAvme4FNR0"
      }
    },
    {
      "cell_type": "code",
      "source": [
        "m = learn.model[0]\n",
        "\n",
        "m"
      ],
      "metadata": {
        "colab": {
          "base_uri": "https://localhost:8080/"
        },
        "id": "GLhl8Ie5Jrk-",
        "outputId": "e86b9b48-9592-44e8-b88b-723860520e47"
      },
      "execution_count": 30,
      "outputs": [
        {
          "output_type": "execute_result",
          "data": {
            "text/plain": [
              "Sequential(\n",
              "  (0): Conv2d(1, 4, kernel_size=(3, 3), stride=(2, 2), padding=(1, 1))\n",
              "  (1): ReLU()\n",
              ")"
            ]
          },
          "metadata": {},
          "execution_count": 30
        }
      ]
    },
    {
      "cell_type": "markdown",
      "source": [
        "Have 1 input channel, 4 output channels, and a 3x3 kernel. Check the weights of the first convolution:"
      ],
      "metadata": {
        "id": "oDvRo7m0G8_D"
      }
    },
    {
      "cell_type": "code",
      "source": [
        "m[0].weight.shape"
      ],
      "metadata": {
        "colab": {
          "base_uri": "https://localhost:8080/"
        },
        "id": "zgBJnfP8FdfT",
        "outputId": "aced9fdd-4813-41b3-95c5-82f709922341"
      },
      "execution_count": 31,
      "outputs": [
        {
          "output_type": "execute_result",
          "data": {
            "text/plain": [
              "torch.Size([4, 1, 3, 3])"
            ]
          },
          "metadata": {},
          "execution_count": 31
        }
      ]
    },
    {
      "cell_type": "markdown",
      "source": [
        "Summary says we have 40 parameters, but here we only have 36. The other 4 are in the bias array:"
      ],
      "metadata": {
        "id": "j0F1ZrjfHEc9"
      }
    },
    {
      "cell_type": "code",
      "source": [
        "m[0].bias.shape"
      ],
      "metadata": {
        "colab": {
          "base_uri": "https://localhost:8080/"
        },
        "id": "s2t1n8zNHCof",
        "outputId": "ec1e4250-a11b-441f-c0ea-fedcb35d05fa"
      },
      "execution_count": 32,
      "outputs": [
        {
          "output_type": "execute_result",
          "data": {
            "text/plain": [
              "torch.Size([4])"
            ]
          },
          "metadata": {},
          "execution_count": 32
        }
      ]
    },
    {
      "cell_type": "markdown",
      "source": [
        "## Color Images"
      ],
      "metadata": {
        "id": "MG8f-feIJ3jF"
      }
    },
    {
      "cell_type": "markdown",
      "source": [
        "A color picture is a rank-3 tensor. One for each channel (i.e. RGB). To apply a convolution to a color picture, we need a kernel tensor with a size that matches the first axis.\n",
        "\n",
        "At each location, the corresponding parts of the kernel and the image patch are multiplied together.\n",
        "\n",
        "These are then all added together, to produce a single number, for each grid location, for each output feature."
      ],
      "metadata": {
        "id": "wxfKFFR6J5Yi"
      }
    },
    {
      "cell_type": "markdown",
      "source": [
        "## Improving Training Stability\n",
        "\n",
        "Good at recognizing 3s from 7s. Now let's recognize all 10 digits."
      ],
      "metadata": {
        "id": "Rlv0qPGKNW4s"
      }
    },
    {
      "cell_type": "code",
      "source": [
        "path = untar_data(URLs.MNIST)"
      ],
      "metadata": {
        "colab": {
          "base_uri": "https://localhost:8080/",
          "height": 37
        },
        "id": "Fgnrb6uhHMqs",
        "outputId": "13e2e0e4-35e7-4dc1-be85-db0cc8e321b2"
      },
      "execution_count": 35,
      "outputs": [
        {
          "output_type": "display_data",
          "data": {
            "text/plain": [
              "<IPython.core.display.HTML object>"
            ],
            "text/html": [
              "\n",
              "<style>\n",
              "    /* Turns off some styling */\n",
              "    progress {\n",
              "        /* gets rid of default border in Firefox and Opera. */\n",
              "        border: none;\n",
              "        /* Needs to be in here for Safari polyfill so background images work as expected. */\n",
              "        background-size: auto;\n",
              "    }\n",
              "    progress:not([value]), progress:not([value])::-webkit-progress-bar {\n",
              "        background: repeating-linear-gradient(45deg, #7e7e7e, #7e7e7e 10px, #5c5c5c 10px, #5c5c5c 20px);\n",
              "    }\n",
              "    .progress-bar-interrupted, .progress-bar-interrupted::-webkit-progress-bar {\n",
              "        background: #F44336;\n",
              "    }\n",
              "</style>\n"
            ]
          },
          "metadata": {}
        },
        {
          "output_type": "display_data",
          "data": {
            "text/plain": [
              "<IPython.core.display.HTML object>"
            ],
            "text/html": [
              "\n",
              "    <div>\n",
              "      <progress value='15687680' class='' max='15683414' style='width:300px; height:20px; vertical-align: middle;'></progress>\n",
              "      100.03% [15687680/15683414 00:00&lt;00:00]\n",
              "    </div>\n",
              "    "
            ]
          },
          "metadata": {}
        }
      ]
    },
    {
      "cell_type": "code",
      "source": [
        "Path.BASE_PATH = path\n",
        "path.ls()"
      ],
      "metadata": {
        "colab": {
          "base_uri": "https://localhost:8080/"
        },
        "id": "-QLErnpcJ_Wp",
        "outputId": "efe7c9bc-9e5d-4aa4-d521-6c245b775348"
      },
      "execution_count": 37,
      "outputs": [
        {
          "output_type": "execute_result",
          "data": {
            "text/plain": [
              "(#2) [Path('testing'),Path('training')]"
            ]
          },
          "metadata": {},
          "execution_count": 37
        }
      ]
    },
    {
      "cell_type": "markdown",
      "source": [
        "Data is in two folders named `testing` and `training`, so we need to pass that to `GrandparentSplitter` since it defaults to `train` and `valid`:"
      ],
      "metadata": {
        "id": "QLTTyONMNpAd"
      }
    },
    {
      "cell_type": "code",
      "source": [
        "def get_dls(bs=64):\n",
        "  return DataBlock(\n",
        "      blocks = (ImageBlock(cls=PILImageBW), CategoryBlock),\n",
        "      get_items = get_image_files,\n",
        "      splitter = GrandparentSplitter('training', 'testing'),\n",
        "      get_y = parent_label,\n",
        "      batch_tfms = Normalize()\n",
        "  ).dataloaders(path, bs=bs)\n",
        "\n",
        "dls = get_dls()"
      ],
      "metadata": {
        "id": "Iu0JCZKzNfo-"
      },
      "execution_count": 39,
      "outputs": []
    },
    {
      "cell_type": "markdown",
      "source": [
        "Always want to look at data before we use it:"
      ],
      "metadata": {
        "id": "tBUgxbtyOMh4"
      }
    },
    {
      "cell_type": "code",
      "source": [
        "dls.show_batch(max_n=9, figsize=(4, 4))"
      ],
      "metadata": {
        "colab": {
          "base_uri": "https://localhost:8080/",
          "height": 367
        },
        "id": "a9BKrBRWOD-Y",
        "outputId": "99b76f8f-7b9d-4a14-e1b8-2be31e88ab56"
      },
      "execution_count": 40,
      "outputs": [
        {
          "output_type": "display_data",
          "data": {
            "text/plain": [
              "<Figure size 400x400 with 9 Axes>"
            ],
            "image/png": "[encoded data removed]"
          },
          "metadata": {}
        }
      ]
    },
    {
      "cell_type": "markdown",
      "source": [
        "Now let's train a simple model on these data"
      ],
      "metadata": {
        "id": "Dq4SQxE6Xnvd"
      }
    },
    {
      "cell_type": "markdown",
      "source": [
        "### A Simple Baseline"
      ],
      "metadata": {
        "id": "UwxH5xXDXqjh"
      }
    },
    {
      "cell_type": "markdown",
      "source": [
        "Earlier we built a model based on a `conv` function like this:"
      ],
      "metadata": {
        "id": "K4FjclHWX6Xr"
      }
    },
    {
      "cell_type": "code",
      "source": [
        "def conv(ni, nf, ks=3, act=True):\n",
        "  res = nn.Conv2d(ni, nf, stride=2, kernel_size=ks, padding=ks//2)\n",
        "  if act: res = nn.Sequential(res, nn.ReLU())\n",
        "  return res"
      ],
      "metadata": {
        "id": "Y8g4I6HaORLS"
      },
      "execution_count": 41,
      "outputs": []
    },
    {
      "cell_type": "markdown",
      "source": [
        "Start with a basic CNN as a baseline, but use more activations. Since we'll have more numbers to differentiate, we'll probably need to learn more filters.\n",
        "\n",
        "Need to use a larger kernel in the first layer:"
      ],
      "metadata": {
        "id": "DYutOihMYPCm"
      }
    },
    {
      "cell_type": "code",
      "source": [
        "def simple_cnn():\n",
        "  return sequential(\n",
        "      conv(1, 8, ks=5),         # 14x14\n",
        "      conv(8, 16),              # 7x7\n",
        "      conv(16, 32),             # 4x4\n",
        "      conv(32, 64),             # 2x2\n",
        "      conv(64, 10, act=False),  # 1x1\n",
        "      Flatten(),\n",
        "  )"
      ],
      "metadata": {
        "id": "x9W1Qw3xYGfd"
      },
      "execution_count": 43,
      "outputs": []
    },
    {
      "cell_type": "markdown",
      "source": [
        "Can look inside our models while they're training to find ways to train them better. Can do this using the `ActivationStats` callback, which records the mean, standard deviation, and histogram of activations of every trainable layer."
      ],
      "metadata": {
        "id": "G-SS1ePNY4K4"
      }
    },
    {
      "cell_type": "code",
      "source": [
        "from fastai.callback.hook import *"
      ],
      "metadata": {
        "id": "73uwi-McYzbH"
      },
      "execution_count": 44,
      "outputs": []
    },
    {
      "cell_type": "markdown",
      "source": [
        "Want to train quickly, so we need a high learning rate. Let's try 0.06:"
      ],
      "metadata": {
        "id": "kPwpI8I6ZDiV"
      }
    },
    {
      "cell_type": "code",
      "source": [
        "def fit(epochs=1):\n",
        "    learn = Learner(dls, simple_cnn(), loss_func=F.cross_entropy,\n",
        "                    metrics=accuracy, cbs=ActivationStats(with_hist=True))\n",
        "    learn.fit(epochs, 0.06)\n",
        "    return learn"
      ],
      "metadata": {
        "id": "99QQAqpQZCaa"
      },
      "execution_count": 47,
      "outputs": []
    },
    {
      "cell_type": "code",
      "source": [
        "learn = fit()"
      ],
      "metadata": {
        "colab": {
          "base_uri": "https://localhost:8080/",
          "height": 135
        },
        "id": "yUt9MahRZS4r",
        "outputId": "f37bcd5f-19bb-4ddf-8005-da7286dbc126"
      },
      "execution_count": 48,
      "outputs": [
        {
          "output_type": "stream",
          "name": "stderr",
          "text": [
            "/usr/local/lib/python3.10/dist-packages/fastai/callback/core.py:69: UserWarning: You are shadowing an attribute (modules) that exists in the learner. Use `self.learn.modules` to avoid this\n",
            "  warn(f\"You are shadowing an attribute ({name}) that exists in the learner. Use `self.learn.{name}` to avoid this\")\n"
          ]
        },
        {
          "output_type": "display_data",
          "data": {
            "text/plain": [
              "<IPython.core.display.HTML object>"
            ],
            "text/html": [
              "\n",
              "<style>\n",
              "    /* Turns off some styling */\n",
              "    progress {\n",
              "        /* gets rid of default border in Firefox and Opera. */\n",
              "        border: none;\n",
              "        /* Needs to be in here for Safari polyfill so background images work as expected. */\n",
              "        background-size: auto;\n",
              "    }\n",
              "    progress:not([value]), progress:not([value])::-webkit-progress-bar {\n",
              "        background: repeating-linear-gradient(45deg, #7e7e7e, #7e7e7e 10px, #5c5c5c 10px, #5c5c5c 20px);\n",
              "    }\n",
              "    .progress-bar-interrupted, .progress-bar-interrupted::-webkit-progress-bar {\n",
              "        background: #F44336;\n",
              "    }\n",
              "</style>\n"
            ]
          },
          "metadata": {}
        },
        {
          "output_type": "display_data",
          "data": {
            "text/plain": [
              "<IPython.core.display.HTML object>"
            ],
            "text/html": [
              "<table border=\"1\" class=\"dataframe\">\n",
              "  <thead>\n",
              "    <tr style=\"text-align: left;\">\n",
              "      <th>epoch</th>\n",
              "      <th>train_loss</th>\n",
              "      <th>valid_loss</th>\n",
              "      <th>accuracy</th>\n",
              "      <th>time</th>\n",
              "    </tr>\n",
              "  </thead>\n",
              "  <tbody>\n",
              "    <tr>\n",
              "      <td>0</td>\n",
              "      <td>2.308434</td>\n",
              "      <td>2.309538</td>\n",
              "      <td>0.098000</td>\n",
              "      <td>02:06</td>\n",
              "    </tr>\n",
              "  </tbody>\n",
              "</table>"
            ]
          },
          "metadata": {}
        }
      ]
    },
    {
      "cell_type": "markdown",
      "source": [
        "That trained like crap. Let's see if we can figure out why.\n",
        "\n",
        "Callbacks passed to `Learner` are available automatically. So `ActivationStats` can be accessed through `activation_stats`.\n",
        "\n",
        "`ActivationStats` also lets us plot them using `plot_layer_stats(idx)`:"
      ],
      "metadata": {
        "id": "Dj3QzY8xaIQV"
      }
    },
    {
      "cell_type": "code",
      "source": [
        "learn.activation_stats.plot_layer_stats(0)"
      ],
      "metadata": {
        "colab": {
          "base_uri": "https://localhost:8080/",
          "height": 216
        },
        "id": "siUlKAX-ZT0m",
        "outputId": "b31717ca-6221-49b0-90ff-671ea0468553"
      },
      "execution_count": 49,
      "outputs": [
        {
          "output_type": "display_data",
          "data": {
            "text/plain": [
              "<Figure size 1200x300 with 3 Axes>"
            ],
            "image/png": "[encoded data removed]"
          },
          "metadata": {}
        }
      ]
    },
    {
      "cell_type": "markdown",
      "source": [
        "Want our model to have a consistent and smooth mean and std of layer activations during training.\n",
        "\n",
        "Activations near zero aren't good because that means we have computation in the model that's doing nothing at all. Zeros in one layer generally carries over to the next layer, which makes more zeros.\n",
        "\n",
        "Penultimate layer of our network:"
      ],
      "metadata": {
        "id": "8rEUeiBiu-cu"
      }
    },
    {
      "cell_type": "code",
      "source": [
        "learn.activation_stats.plot_layer_stats(-2)"
      ],
      "metadata": {
        "colab": {
          "base_uri": "https://localhost:8080/",
          "height": 216
        },
        "id": "k_wOk5tLaZkg",
        "outputId": "1649e97b-4f99-44f7-cf8f-b90c85fe988f"
      },
      "execution_count": 50,
      "outputs": [
        {
          "output_type": "display_data",
          "data": {
            "text/plain": [
              "<Figure size 1200x300 with 3 Axes>"
            ],
            "image/png": "[encoded data removed]"
          },
          "metadata": {}
        }
      ]
    },
    {
      "cell_type": "markdown",
      "source": [
        "Problems are much worse towards the end of the network as instability and zero activations compound over layers. Can do a few things to make training more stable:"
      ],
      "metadata": {
        "id": "n6FdP4QfvTYP"
      }
    },
    {
      "cell_type": "markdown",
      "source": [
        "### Increase Batch Size\n",
        "\n",
        "Larger batches have gradients that are more accurate since they're calculated from more data.\n",
        "\n",
        "Issue is that a larger batch size means fewer batches per epoch, which means less opportunities for the model to update its weights.\n",
        "\n",
        "Try a batch size of 512 and see what that does:"
      ],
      "metadata": {
        "id": "cifj-Af-vak5"
      }
    },
    {
      "cell_type": "code",
      "source": [
        "dls = get_dls(512)"
      ],
      "metadata": {
        "id": "Oxbqwf1KvNhC"
      },
      "execution_count": 51,
      "outputs": []
    },
    {
      "cell_type": "code",
      "source": [
        "learn = fit()"
      ],
      "metadata": {
        "colab": {
          "base_uri": "https://localhost:8080/",
          "height": 135
        },
        "id": "P9RqDFvmvooT",
        "outputId": "4efa5243-cd0d-442e-a575-3ed437669408"
      },
      "execution_count": 52,
      "outputs": [
        {
          "output_type": "stream",
          "name": "stderr",
          "text": [
            "/usr/local/lib/python3.10/dist-packages/fastai/callback/core.py:69: UserWarning: You are shadowing an attribute (modules) that exists in the learner. Use `self.learn.modules` to avoid this\n",
            "  warn(f\"You are shadowing an attribute ({name}) that exists in the learner. Use `self.learn.{name}` to avoid this\")\n"
          ]
        },
        {
          "output_type": "display_data",
          "data": {
            "text/plain": [
              "<IPython.core.display.HTML object>"
            ],
            "text/html": [
              "\n",
              "<style>\n",
              "    /* Turns off some styling */\n",
              "    progress {\n",
              "        /* gets rid of default border in Firefox and Opera. */\n",
              "        border: none;\n",
              "        /* Needs to be in here for Safari polyfill so background images work as expected. */\n",
              "        background-size: auto;\n",
              "    }\n",
              "    progress:not([value]), progress:not([value])::-webkit-progress-bar {\n",
              "        background: repeating-linear-gradient(45deg, #7e7e7e, #7e7e7e 10px, #5c5c5c 10px, #5c5c5c 20px);\n",
              "    }\n",
              "    .progress-bar-interrupted, .progress-bar-interrupted::-webkit-progress-bar {\n",
              "        background: #F44336;\n",
              "    }\n",
              "</style>\n"
            ]
          },
          "metadata": {}
        },
        {
          "output_type": "display_data",
          "data": {
            "text/plain": [
              "<IPython.core.display.HTML object>"
            ],
            "text/html": [
              "<table border=\"1\" class=\"dataframe\">\n",
              "  <thead>\n",
              "    <tr style=\"text-align: left;\">\n",
              "      <th>epoch</th>\n",
              "      <th>train_loss</th>\n",
              "      <th>valid_loss</th>\n",
              "      <th>accuracy</th>\n",
              "      <th>time</th>\n",
              "    </tr>\n",
              "  </thead>\n",
              "  <tbody>\n",
              "    <tr>\n",
              "      <td>0</td>\n",
              "      <td>2.303916</td>\n",
              "      <td>2.303833</td>\n",
              "      <td>0.101000</td>\n",
              "      <td>01:27</td>\n",
              "    </tr>\n",
              "  </tbody>\n",
              "</table>"
            ]
          },
          "metadata": {}
        }
      ]
    },
    {
      "cell_type": "markdown",
      "source": [
        "Check penultimate layer again:"
      ],
      "metadata": {
        "id": "g59EBWdDwHft"
      }
    },
    {
      "cell_type": "code",
      "source": [
        "learn.activation_stats.plot_layer_stats(-2)"
      ],
      "metadata": {
        "colab": {
          "base_uri": "https://localhost:8080/",
          "height": 216
        },
        "id": "IW0QZmOMvpR9",
        "outputId": "f93a9343-f5e8-4518-b415-d0af81e29faf"
      },
      "execution_count": 53,
      "outputs": [
        {
          "output_type": "display_data",
          "data": {
            "text/plain": [
              "<Figure size 1200x300 with 3 Axes>"
            ],
            "image/png": "[encoded data removed]"
          },
          "metadata": {}
        }
      ]
    },
    {
      "cell_type": "markdown",
      "source": [
        "Most of the activations are still near zero. Let's try some other techniques to improve the training stability."
      ],
      "metadata": {
        "id": "mHMZ22rKwaDO"
      }
    },
    {
      "cell_type": "markdown",
      "source": [
        "### 1cycle Training\n",
        "\n",
        "Our initial weights are not well suited to the task we're trying to solve. Therefore, it is dangerous to begin training with a high learning rate: we may very well make the training diverge instantly, as we've seen. We probably don't want to end training with a high learning rate either, so that we don't skip over a minimum. But we want to train at a high learning rate for the rest of the training period, because we'll be able to train more quickly that way. Therefore, we should change the learning rate during training, from low, to high, and then back to low again.\n",
        "\n",
        "1cycle training allows us to use a much higher maximum learning rate than other types of training, which gives two benefits:\n",
        "\n",
        "- By training with higher learning rates, we train faster—a phenomenon Smith named *super-convergence*.\n",
        "- By training with higher learning rates, we overfit less because we skip over the sharp local minima to end up in a smoother (and therefore more generalizable) part of the loss.\n",
        "\n",
        "Use 1cycle training in fastai by calling `fit_one_cycle`:"
      ],
      "metadata": {
        "id": "arJp102nwfRY"
      }
    },
    {
      "cell_type": "code",
      "source": [
        "def fit(epochs=1, lr=0.06):\n",
        "  learn = Learner(dls, simple_cnn(), loss_func=F.cross_entropy,\n",
        "                  metrics=accuracy, cbs=ActivationStats(with_hist=True))\n",
        "  learn.fit_one_cycle(epochs, lr)\n",
        "  return learn"
      ],
      "metadata": {
        "id": "_GpXXipPwK-8"
      },
      "execution_count": 54,
      "outputs": []
    },
    {
      "cell_type": "code",
      "source": [
        "learn = fit()"
      ],
      "metadata": {
        "colab": {
          "base_uri": "https://localhost:8080/",
          "height": 135
        },
        "id": "RXtFGtNbw9tj",
        "outputId": "bbb14a2f-7b4f-4b88-e394-5d4cec2f90f9"
      },
      "execution_count": 55,
      "outputs": [
        {
          "output_type": "stream",
          "name": "stderr",
          "text": [
            "/usr/local/lib/python3.10/dist-packages/fastai/callback/core.py:69: UserWarning: You are shadowing an attribute (modules) that exists in the learner. Use `self.learn.modules` to avoid this\n",
            "  warn(f\"You are shadowing an attribute ({name}) that exists in the learner. Use `self.learn.{name}` to avoid this\")\n"
          ]
        },
        {
          "output_type": "display_data",
          "data": {
            "text/plain": [
              "<IPython.core.display.HTML object>"
            ],
            "text/html": [
              "\n",
              "<style>\n",
              "    /* Turns off some styling */\n",
              "    progress {\n",
              "        /* gets rid of default border in Firefox and Opera. */\n",
              "        border: none;\n",
              "        /* Needs to be in here for Safari polyfill so background images work as expected. */\n",
              "        background-size: auto;\n",
              "    }\n",
              "    progress:not([value]), progress:not([value])::-webkit-progress-bar {\n",
              "        background: repeating-linear-gradient(45deg, #7e7e7e, #7e7e7e 10px, #5c5c5c 10px, #5c5c5c 20px);\n",
              "    }\n",
              "    .progress-bar-interrupted, .progress-bar-interrupted::-webkit-progress-bar {\n",
              "        background: #F44336;\n",
              "    }\n",
              "</style>\n"
            ]
          },
          "metadata": {}
        },
        {
          "output_type": "display_data",
          "data": {
            "text/plain": [
              "<IPython.core.display.HTML object>"
            ],
            "text/html": [
              "<table border=\"1\" class=\"dataframe\">\n",
              "  <thead>\n",
              "    <tr style=\"text-align: left;\">\n",
              "      <th>epoch</th>\n",
              "      <th>train_loss</th>\n",
              "      <th>valid_loss</th>\n",
              "      <th>accuracy</th>\n",
              "      <th>time</th>\n",
              "    </tr>\n",
              "  </thead>\n",
              "  <tbody>\n",
              "    <tr>\n",
              "      <td>0</td>\n",
              "      <td>0.201311</td>\n",
              "      <td>0.083485</td>\n",
              "      <td>0.973500</td>\n",
              "      <td>01:31</td>\n",
              "    </tr>\n",
              "  </tbody>\n",
              "</table>"
            ]
          },
          "metadata": {}
        }
      ]
    },
    {
      "cell_type": "markdown",
      "source": [
        "Finally making some progress which is good.\n",
        "\n",
        "Can view the learning rate and momentum throughout training by calling `plot_sched` on `learn.recorder`.\n",
        "\n",
        "`learn.recorder` records everything that happens during training, including losses, metrics, and hyperparameters like learning rate and momentum:"
      ],
      "metadata": {
        "id": "aodadnVTxaSv"
      }
    },
    {
      "cell_type": "code",
      "source": [
        "learn.recorder.plot_sched()"
      ],
      "metadata": {
        "colab": {
          "base_uri": "https://localhost:8080/",
          "height": 247
        },
        "id": "zVQj_IFSw-tZ",
        "outputId": "6a118403-f6de-404e-eb82-6d0df40af74e"
      },
      "execution_count": 56,
      "outputs": [
        {
          "output_type": "display_data",
          "data": {
            "text/plain": [
              "<Figure size 1200x400 with 2 Axes>"
            ],
            "image/png": "[encoded data removed]"
          },
          "metadata": {}
        }
      ]
    },
    {
      "cell_type": "markdown",
      "source": [
        "`fit_one_cycle` provides the following parameters you can adjust:\n",
        "\n",
        "- `lr_max`:: The highest learning rate that will be used (this can also be a list of learning rates for each layer group, or a Python `slice` object containing the first and last layer group learning rates)\n",
        "- `div`:: How much to divide `lr_max` by to get the starting learning rate\n",
        "- `div_final`::  How much to divide `lr_max` by to get the ending learning rate\n",
        "- `pct_start`:: What percentage of the batches to use for the warmup\n",
        "- `moms`:: A tuple `(mom1,mom2,mom3)` where *`mom1`* is the initial momentum, *`mom2`* is the minimum momentum, and *`mom3`* is the final momentum\n",
        "\n",
        "Let's take a look at our layer stats again:"
      ],
      "metadata": {
        "id": "KZdCUuXPx0lZ"
      }
    },
    {
      "cell_type": "code",
      "source": [
        "learn.activation_stats.plot_layer_stats(-2)"
      ],
      "metadata": {
        "colab": {
          "base_uri": "https://localhost:8080/",
          "height": 219
        },
        "id": "LiiBoU4sxnAX",
        "outputId": "901524d0-a5bd-4afd-ef54-810dad64bde4"
      },
      "execution_count": 57,
      "outputs": [
        {
          "output_type": "display_data",
          "data": {
            "text/plain": [
              "<Figure size 1200x300 with 3 Axes>"
            ],
            "image/png": "[encoded data removed]"
          },
          "metadata": {}
        }
      ]
    },
    {
      "cell_type": "markdown",
      "source": [
        "Percentage of near-zero weights is getting better, but it's still pretty high.\n",
        "\n",
        "Can see even more about what's going on during training with `color_dim` and passing it a layer index:"
      ],
      "metadata": {
        "id": "h3ftQCrax68s"
      }
    },
    {
      "cell_type": "code",
      "source": [
        "learn.activation_stats.color_dim(-2)"
      ],
      "metadata": {
        "colab": {
          "base_uri": "https://localhost:8080/",
          "height": 255
        },
        "id": "d7v1DKAcx5CG",
        "outputId": "055c892f-eab5-4e32-c20f-73e9b96af2bf"
      },
      "execution_count": 58,
      "outputs": [
        {
          "output_type": "display_data",
          "data": {
            "text/plain": [
              "<Figure size 1000x500 with 1 Axes>"
            ],
            "image/png": "[encoded data removed]"
          },
          "metadata": {}
        }
      ]
    },
    {
      "cell_type": "markdown",
      "source": [
        "This shows a classiv picture of \"bad training\". Start with nearly all activations at zero on the far left. Then the number of nonzero activations increases exponentially over the first batch, then collapses. It almost looks like training restarts from scratch. Then we see the activations increase again, and collapse again. After repeating this a few times, eventually we see a spread of activations throughout the range.\n",
        "\n",
        "It's much better if training can be smooth from the start. The cycles of exponential increase and then collapse tend to result in a lot of near-zero activations, resulting in slow training and poor final results. One way to solve this problem is to use batch normalization."
      ],
      "metadata": {
        "id": "0iqwQE-w0Vb9"
      }
    },
    {
      "cell_type": "markdown",
      "source": [
        "### Batch Normalization\n",
        "\n",
        "Need to fix the initial large percentage of near-zero activations, and then try to maintain a good distribution of activations throughout training.\n",
        "\n",
        "Solution was described in a paper:\n",
        "\n",
        "[\"Batch Normalization: Accelerating Deep Network Training by Reducing Internal Covariate Shift\"](https://arxiv.org/abs/1502.03167). In the abstract, they describe just the problem that we've seen:\n",
        "\n",
        "> : Training Deep Neural Networks is complicated by the fact that the distribution of each layer's inputs changes during training, as the parameters of the previous layers change. This slows down the training by requiring lower learning rates and careful parameter initialization... We refer to this phenomenon as internal covariate shift, and address the problem by normalizing layer inputs.\n",
        "\n",
        "Their solution, they say is:\n",
        "\n",
        "> : Making normalization a part of the model architecture and performing the normalization for each training mini-batch. Batch Normalization allows us to use much higher learning rates and be less careful about initialization.\n",
        "\n",
        "The paper caused great excitement as soon as it was released, because it included the chart in <<batchnorm>>, which clearly demonstrated that batch normalization could train a model that was even more accurate than the current state of the art (the *Inception* architecture) and around 5x faster.\n",
        "\n",
        "Batch normalization (aka *batchnorm*) takes an average of the mean and standard deviations of the activations of a layer and using those to normalize the activations.\n",
        "\n",
        "Issue is that the network might want some activations to be really high. Solution is to add two learnable parameters, `gamma` and `beta` such that after normalizing the activations to get some new activation vector `y`, a batchnorm layer returns `gamma*y + beta`.\n",
        "\n",
        "So our activations can have any mean or variance, independent from the mean and std. of the results of the previous layer. These stats are learned separately, making training easier.\n",
        "\n",
        "During training, use the mean and std. of the batch to normalize the data, while during validation we instead use a running mean of the statistics calculated during training.\n",
        "\n"
      ],
      "metadata": {
        "id": "Pbe8rdFq81ma"
      }
    },
    {
      "cell_type": "markdown",
      "source": [
        "Add a batchnorm layer to `conv`:"
      ],
      "metadata": {
        "id": "DiAnbl0p96Gp"
      }
    },
    {
      "cell_type": "code",
      "source": [
        "def conv(ni, nf, ks=3, act=True):\n",
        "  layers = [nn.Conv2d(ni, nf, stride=2, kernel_size=ks, padding=ks//2)]\n",
        "  if act: layers.append(nn.ReLU())\n",
        "  layers.append(nn.BatchNorm2d(nf))\n",
        "  return nn.Sequential(*layers)\n"
      ],
      "metadata": {
        "id": "B8f8tSdKyEMZ"
      },
      "execution_count": 59,
      "outputs": []
    },
    {
      "cell_type": "markdown",
      "source": [
        "Fir our model:"
      ],
      "metadata": {
        "id": "FGbXxObx-JFX"
      }
    },
    {
      "cell_type": "code",
      "source": [
        "learn = fit()"
      ],
      "metadata": {
        "colab": {
          "base_uri": "https://localhost:8080/",
          "height": 135
        },
        "id": "_d_nXym--ITN",
        "outputId": "a7aa5e67-dde9-4d4d-a576-a4e8105917e1"
      },
      "execution_count": 60,
      "outputs": [
        {
          "output_type": "stream",
          "name": "stderr",
          "text": [
            "/usr/local/lib/python3.10/dist-packages/fastai/callback/core.py:69: UserWarning: You are shadowing an attribute (modules) that exists in the learner. Use `self.learn.modules` to avoid this\n",
            "  warn(f\"You are shadowing an attribute ({name}) that exists in the learner. Use `self.learn.{name}` to avoid this\")\n"
          ]
        },
        {
          "output_type": "display_data",
          "data": {
            "text/plain": [
              "<IPython.core.display.HTML object>"
            ],
            "text/html": [
              "\n",
              "<style>\n",
              "    /* Turns off some styling */\n",
              "    progress {\n",
              "        /* gets rid of default border in Firefox and Opera. */\n",
              "        border: none;\n",
              "        /* Needs to be in here for Safari polyfill so background images work as expected. */\n",
              "        background-size: auto;\n",
              "    }\n",
              "    progress:not([value]), progress:not([value])::-webkit-progress-bar {\n",
              "        background: repeating-linear-gradient(45deg, #7e7e7e, #7e7e7e 10px, #5c5c5c 10px, #5c5c5c 20px);\n",
              "    }\n",
              "    .progress-bar-interrupted, .progress-bar-interrupted::-webkit-progress-bar {\n",
              "        background: #F44336;\n",
              "    }\n",
              "</style>\n"
            ]
          },
          "metadata": {}
        },
        {
          "output_type": "display_data",
          "data": {
            "text/plain": [
              "<IPython.core.display.HTML object>"
            ],
            "text/html": [
              "<table border=\"1\" class=\"dataframe\">\n",
              "  <thead>\n",
              "    <tr style=\"text-align: left;\">\n",
              "      <th>epoch</th>\n",
              "      <th>train_loss</th>\n",
              "      <th>valid_loss</th>\n",
              "      <th>accuracy</th>\n",
              "      <th>time</th>\n",
              "    </tr>\n",
              "  </thead>\n",
              "  <tbody>\n",
              "    <tr>\n",
              "      <td>0</td>\n",
              "      <td>0.131327</td>\n",
              "      <td>0.056995</td>\n",
              "      <td>0.985600</td>\n",
              "      <td>01:51</td>\n",
              "    </tr>\n",
              "  </tbody>\n",
              "</table>"
            ]
          },
          "metadata": {}
        }
      ]
    },
    {
      "cell_type": "markdown",
      "source": [
        "Look at `color_dim`:"
      ],
      "metadata": {
        "id": "Iv5il68e-TXs"
      }
    },
    {
      "cell_type": "code",
      "source": [
        "learn.activation_stats.color_dim(-4)"
      ],
      "metadata": {
        "colab": {
          "base_uri": "https://localhost:8080/",
          "height": 255
        },
        "id": "zPWj8RuD-KxA",
        "outputId": "780653db-a23d-46c8-e797-3d7bd96eba00"
      },
      "execution_count": 61,
      "outputs": [
        {
          "output_type": "display_data",
          "data": {
            "text/plain": [
              "<Figure size 1000x500 with 1 Axes>"
            ],
            "image/png": "[encoded data removed]"
          },
          "metadata": {}
        }
      ]
    },
    {
      "cell_type": "markdown",
      "source": [
        "Batchnorm worked really freaking well. So well that it's used in most modern neaural networks.\n",
        "\n",
        "Models that contain batchnorm tend to generalize better than models that don't contain them. Some people think the reason why is due to the extra randomness the batchnorm process adds to the training process.\n",
        "\n",
        "Let's turn things up and train for a little while and increase the learning rate (since the paper said we could):"
      ],
      "metadata": {
        "id": "8cUMTImZ-Y9l"
      }
    },
    {
      "cell_type": "code",
      "source": [
        "learn = fit(5, lr=0.1)"
      ],
      "metadata": {
        "colab": {
          "base_uri": "https://localhost:8080/",
          "height": 261
        },
        "id": "3wYPGinQ-WNv",
        "outputId": "5feb34c0-399a-436e-b324-31d3ef054100"
      },
      "execution_count": 62,
      "outputs": [
        {
          "output_type": "stream",
          "name": "stderr",
          "text": [
            "/usr/local/lib/python3.10/dist-packages/fastai/callback/core.py:69: UserWarning: You are shadowing an attribute (modules) that exists in the learner. Use `self.learn.modules` to avoid this\n",
            "  warn(f\"You are shadowing an attribute ({name}) that exists in the learner. Use `self.learn.{name}` to avoid this\")\n"
          ]
        },
        {
          "output_type": "display_data",
          "data": {
            "text/plain": [
              "<IPython.core.display.HTML object>"
            ],
            "text/html": [
              "\n",
              "<style>\n",
              "    /* Turns off some styling */\n",
              "    progress {\n",
              "        /* gets rid of default border in Firefox and Opera. */\n",
              "        border: none;\n",
              "        /* Needs to be in here for Safari polyfill so background images work as expected. */\n",
              "        background-size: auto;\n",
              "    }\n",
              "    progress:not([value]), progress:not([value])::-webkit-progress-bar {\n",
              "        background: repeating-linear-gradient(45deg, #7e7e7e, #7e7e7e 10px, #5c5c5c 10px, #5c5c5c 20px);\n",
              "    }\n",
              "    .progress-bar-interrupted, .progress-bar-interrupted::-webkit-progress-bar {\n",
              "        background: #F44336;\n",
              "    }\n",
              "</style>\n"
            ]
          },
          "metadata": {}
        },
        {
          "output_type": "display_data",
          "data": {
            "text/plain": [
              "<IPython.core.display.HTML object>"
            ],
            "text/html": [
              "<table border=\"1\" class=\"dataframe\">\n",
              "  <thead>\n",
              "    <tr style=\"text-align: left;\">\n",
              "      <th>epoch</th>\n",
              "      <th>train_loss</th>\n",
              "      <th>valid_loss</th>\n",
              "      <th>accuracy</th>\n",
              "      <th>time</th>\n",
              "    </tr>\n",
              "  </thead>\n",
              "  <tbody>\n",
              "    <tr>\n",
              "      <td>0</td>\n",
              "      <td>0.187005</td>\n",
              "      <td>0.256744</td>\n",
              "      <td>0.917600</td>\n",
              "      <td>01:32</td>\n",
              "    </tr>\n",
              "    <tr>\n",
              "      <td>1</td>\n",
              "      <td>0.080883</td>\n",
              "      <td>0.064979</td>\n",
              "      <td>0.980000</td>\n",
              "      <td>01:31</td>\n",
              "    </tr>\n",
              "    <tr>\n",
              "      <td>2</td>\n",
              "      <td>0.050706</td>\n",
              "      <td>0.042744</td>\n",
              "      <td>0.987700</td>\n",
              "      <td>01:35</td>\n",
              "    </tr>\n",
              "    <tr>\n",
              "      <td>3</td>\n",
              "      <td>0.031638</td>\n",
              "      <td>0.026179</td>\n",
              "      <td>0.991300</td>\n",
              "      <td>01:33</td>\n",
              "    </tr>\n",
              "    <tr>\n",
              "      <td>4</td>\n",
              "      <td>0.015895</td>\n",
              "      <td>0.022947</td>\n",
              "      <td>0.992000</td>\n",
              "      <td>01:32</td>\n",
              "    </tr>\n",
              "  </tbody>\n",
              "</table>"
            ]
          },
          "metadata": {}
        }
      ]
    },
    {
      "cell_type": "code",
      "source": [],
      "metadata": {
        "id": "lS6zM_y0-s8E"
      },
      "execution_count": null,
      "outputs": []
    }
  ]
}