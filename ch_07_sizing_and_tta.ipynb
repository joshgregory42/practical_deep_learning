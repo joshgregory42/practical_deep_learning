{
  "nbformat": 4,
  "nbformat_minor": 0,
  "metadata": {
    "colab": {
      "provenance": [],
      "gpuType": "T4",
      "authorship_tag": "ABX9TyNK7Uv3/G+x12lLc0HLvSOG",
      "include_colab_link": true
    },
    "kernelspec": {
      "name": "python3",
      "display_name": "Python 3"
    },
    "language_info": {
      "name": "python"
    },
    "accelerator": "GPU"
  },
  "cells": [
    {
      "cell_type": "markdown",
      "metadata": {
        "id": "view-in-github",
        "colab_type": "text"
      },
      "source": [
        "<a href=\"https://colab.research.google.com/github/joshgregory42/practical_deep_learning/blob/main/ch_07_sizing_and_tta.ipynb\" target=\"_parent\"><img src=\"https://colab.research.google.com/assets/colab-badge.svg\" alt=\"Open In Colab\"/></a>"
      ]
    },
    {
      "cell_type": "markdown",
      "source": [
        "# Training a State-of-the-Art Model\n",
        "\n",
        "Will look at more advanced techniques for training an image classification model.\n",
        "\n",
        "Will train a model from scratch. Will be using images of objects of different sizes, different orientations, different lighting, etc.\n",
        "\n",
        "This will help training a model from scratch, or using transfer learning to train a model on a very different kind of dataset than the pretrained model used.\n",
        "\n",
        "## Imagenette\n",
        "\n",
        "* A subset of the ImageNet dataset.\n",
        "* Scales up to the full ImageNet dataset, making experimentation much easier."
      ],
      "metadata": {
        "id": "lnuLPmtBnKG2"
      }
    },
    {
      "cell_type": "code",
      "execution_count": null,
      "metadata": {
        "colab": {
          "base_uri": "https://localhost:8080/",
          "height": 37
        },
        "id": "k7ydw9DCmt-I",
        "outputId": "190b6da1-135e-4b8d-b834-8205bb2f424a"
      },
      "outputs": [
        {
          "output_type": "display_data",
          "data": {
            "text/plain": [
              "<IPython.core.display.HTML object>"
            ],
            "text/html": [
              "\n",
              "<style>\n",
              "    /* Turns off some styling */\n",
              "    progress {\n",
              "        /* gets rid of default border in Firefox and Opera. */\n",
              "        border: none;\n",
              "        /* Needs to be in here for Safari polyfill so background images work as expected. */\n",
              "        background-size: auto;\n",
              "    }\n",
              "    progress:not([value]), progress:not([value])::-webkit-progress-bar {\n",
              "        background: repeating-linear-gradient(45deg, #7e7e7e, #7e7e7e 10px, #5c5c5c 10px, #5c5c5c 20px);\n",
              "    }\n",
              "    .progress-bar-interrupted, .progress-bar-interrupted::-webkit-progress-bar {\n",
              "        background: #F44336;\n",
              "    }\n",
              "</style>\n"
            ]
          },
          "metadata": {}
        },
        {
          "output_type": "display_data",
          "data": {
            "text/plain": [
              "<IPython.core.display.HTML object>"
            ],
            "text/html": [
              "\n",
              "    <div>\n",
              "      <progress value='1557168128' class='' max='1557161267' style='width:300px; height:20px; vertical-align: middle;'></progress>\n",
              "      100.00% [1557168128/1557161267 01:54&lt;00:00]\n",
              "    </div>\n",
              "    "
            ]
          },
          "metadata": {}
        }
      ],
      "source": [
        "from fastai.vision.all import *\n",
        "\n",
        "path = untar_data(URLs.IMAGENETTE)"
      ]
    },
    {
      "cell_type": "code",
      "source": [
        "# Put dataset into a DataLoaders object using presizing:\n",
        "\n",
        "dblock = DataBlock(blocks=(ImageBlock(), CategoryBlock()),\n",
        "                   get_items=get_image_files,\n",
        "                   get_y=parent_label,\n",
        "                   item_tfms=Resize(460),\n",
        "                   batch_tfms=aug_transforms(size=224, min_scale=0.75))\n",
        "\n",
        "dls = dblock.dataloaders(path, bs=64)\n"
      ],
      "metadata": {
        "id": "ZImjCXmnoHrN"
      },
      "execution_count": null,
      "outputs": []
    },
    {
      "cell_type": "code",
      "source": [
        "# Baseline training run:\n",
        "\n",
        "model = xresnet50(n_out=dls.c)\n",
        "\n",
        "learn = Learner(dls, model, loss_func=CrossEntropyLossFlat(), metrics=accuracy)\n",
        "learn.fit_one_cycle(5, 3e-3)"
      ],
      "metadata": {
        "colab": {
          "base_uri": "https://localhost:8080/",
          "height": 206
        },
        "id": "EZbyzJKtomRH",
        "outputId": "32508344-784b-41a2-c561-ab297b9fbd26"
      },
      "execution_count": null,
      "outputs": [
        {
          "output_type": "display_data",
          "data": {
            "text/plain": [
              "<IPython.core.display.HTML object>"
            ],
            "text/html": [
              "\n",
              "<style>\n",
              "    /* Turns off some styling */\n",
              "    progress {\n",
              "        /* gets rid of default border in Firefox and Opera. */\n",
              "        border: none;\n",
              "        /* Needs to be in here for Safari polyfill so background images work as expected. */\n",
              "        background-size: auto;\n",
              "    }\n",
              "    progress:not([value]), progress:not([value])::-webkit-progress-bar {\n",
              "        background: repeating-linear-gradient(45deg, #7e7e7e, #7e7e7e 10px, #5c5c5c 10px, #5c5c5c 20px);\n",
              "    }\n",
              "    .progress-bar-interrupted, .progress-bar-interrupted::-webkit-progress-bar {\n",
              "        background: #F44336;\n",
              "    }\n",
              "</style>\n"
            ]
          },
          "metadata": {}
        },
        {
          "output_type": "display_data",
          "data": {
            "text/plain": [
              "<IPython.core.display.HTML object>"
            ],
            "text/html": [
              "<table border=\"1\" class=\"dataframe\">\n",
              "  <thead>\n",
              "    <tr style=\"text-align: left;\">\n",
              "      <th>epoch</th>\n",
              "      <th>train_loss</th>\n",
              "      <th>valid_loss</th>\n",
              "      <th>accuracy</th>\n",
              "      <th>time</th>\n",
              "    </tr>\n",
              "  </thead>\n",
              "  <tbody>\n",
              "    <tr>\n",
              "      <td>0</td>\n",
              "      <td>1.582379</td>\n",
              "      <td>1.480935</td>\n",
              "      <td>0.529500</td>\n",
              "      <td>03:04</td>\n",
              "    </tr>\n",
              "    <tr>\n",
              "      <td>1</td>\n",
              "      <td>1.212800</td>\n",
              "      <td>1.197451</td>\n",
              "      <td>0.623600</td>\n",
              "      <td>03:06</td>\n",
              "    </tr>\n",
              "    <tr>\n",
              "      <td>2</td>\n",
              "      <td>0.952516</td>\n",
              "      <td>1.000156</td>\n",
              "      <td>0.698656</td>\n",
              "      <td>03:04</td>\n",
              "    </tr>\n",
              "    <tr>\n",
              "      <td>3</td>\n",
              "      <td>0.740175</td>\n",
              "      <td>0.705990</td>\n",
              "      <td>0.771098</td>\n",
              "      <td>03:04</td>\n",
              "    </tr>\n",
              "    <tr>\n",
              "      <td>4</td>\n",
              "      <td>0.595625</td>\n",
              "      <td>0.578908</td>\n",
              "      <td>0.817401</td>\n",
              "      <td>03:05</td>\n",
              "    </tr>\n",
              "  </tbody>\n",
              "</table>"
            ]
          },
          "metadata": {}
        }
      ]
    },
    {
      "cell_type": "markdown",
      "source": [
        "## Normalization\n",
        "\n",
        "When training, typically want input data to be normalized (mean of 0 and standard deviation of 1).\n",
        "\n",
        "Look at a batch of our data, which won't have a mean of 0 and a std. of 1:"
      ],
      "metadata": {
        "id": "2V6XfhOtwn72"
      }
    },
    {
      "cell_type": "code",
      "source": [
        "x, y = dls.one_batch()\n",
        "\n",
        "# Average over all axes except for the channel axis, which is ch. 1\n",
        "x.mean(dim=[0, 2, 3]), x.std(dim=[0, 2, 3])"
      ],
      "metadata": {
        "colab": {
          "base_uri": "https://localhost:8080/"
        },
        "id": "KsyScQ07pcMD",
        "outputId": "bb74211b-eb22-44ab-d7de-c5dda20d8848"
      },
      "execution_count": null,
      "outputs": [
        {
          "output_type": "execute_result",
          "data": {
            "text/plain": [
              "(TensorImage([0.4867, 0.4787, 0.4575], device='cuda:0'),\n",
              " TensorImage([0.2648, 0.2613, 0.2866], device='cuda:0'))"
            ]
          },
          "metadata": {},
          "execution_count": 4
        }
      ]
    },
    {
      "cell_type": "markdown",
      "source": [
        "Can normalize the data easily using fastai's `Normalize` transform. Acts on a whole mini-batch, so just add it to the `batch_tfms` section of the data block.\n",
        "\n",
        "Look at statistics of one batch:"
      ],
      "metadata": {
        "id": "5IJgieoHx8T7"
      }
    },
    {
      "cell_type": "code",
      "source": [
        "def get_dls(bs, size):\n",
        "  dblock = DataBlock(blocks=(ImageBlock, CategoryBlock),\n",
        "                   get_items=get_image_files,\n",
        "                   get_y=parent_label,\n",
        "                   item_tfms=Resize(460),\n",
        "                   batch_tfms=[*aug_transforms(size=size, min_scale=0.75),\n",
        "                               Normalize.from_stats(*imagenet_stats)])\n",
        "  return dblock.dataloaders(path, bs=bs)\n",
        "\n",
        "dls = get_dls(64, 224)"
      ],
      "metadata": {
        "id": "Te4VtZk7w_q6"
      },
      "execution_count": null,
      "outputs": []
    },
    {
      "cell_type": "markdown",
      "source": [
        "Generally need to make sure that the normalization techniques that you use when using another model match.\n",
        "\n",
        "**Progressive resizing**: Gradually using larger and larger images as training progresses."
      ],
      "metadata": {
        "id": "cSZuHQR7fjwO"
      }
    },
    {
      "cell_type": "code",
      "source": [
        "dls = get_dls(128, 128)\n",
        "\n",
        "learn = Learner(dls, xresnet50(n_out=dls.c), loss_func=CrossEntropyLossFlat(),\n",
        "                metrics=accuracy)\n",
        "\n",
        "learn.fit_one_cycle(4, 3e-3)"
      ],
      "metadata": {
        "colab": {
          "base_uri": "https://localhost:8080/",
          "height": 285
        },
        "id": "gRBzZAW6fpa_",
        "outputId": "d8ff3192-43a1-49e5-d1ef-53c03cb49dba"
      },
      "execution_count": 8,
      "outputs": [
        {
          "data": {
            "text/html": [
              "\n",
              "<style>\n",
              "    /* Turns off some styling */\n",
              "    progress {\n",
              "        /* gets rid of default border in Firefox and Opera. */\n",
              "        border: none;\n",
              "        /* Needs to be in here for Safari polyfill so background images work as expected. */\n",
              "        background-size: auto;\n",
              "    }\n",
              "    progress:not([value]), progress:not([value])::-webkit-progress-bar {\n",
              "        background: repeating-linear-gradient(45deg, #7e7e7e, #7e7e7e 10px, #5c5c5c 10px, #5c5c5c 20px);\n",
              "    }\n",
              "    .progress-bar-interrupted, .progress-bar-interrupted::-webkit-progress-bar {\n",
              "        background: #F44336;\n",
              "    }\n",
              "</style>\n"
            ],
            "text/plain": [
              "<IPython.core.display.HTML object>"
            ]
          },
          "metadata": {},
          "output_type": "display_data"
        },
        {
          "data": {
            "text/html": [
              "\n",
              "    <div>\n",
              "      <progress value='1' class='' max='4' style='width:300px; height:20px; vertical-align: middle;'></progress>\n",
              "      25.00% [1/4 02:50&lt;08:30]\n",
              "    </div>\n",
              "    \n",
              "<table border=\"1\" class=\"dataframe\">\n",
              "  <thead>\n",
              "    <tr style=\"text-align: left;\">\n",
              "      <th>epoch</th>\n",
              "      <th>train_loss</th>\n",
              "      <th>valid_loss</th>\n",
              "      <th>accuracy</th>\n",
              "      <th>time</th>\n",
              "    </tr>\n",
              "  </thead>\n",
              "  <tbody>\n",
              "    <tr>\n",
              "      <td>0</td>\n",
              "      <td>1.603324</td>\n",
              "      <td>2.374149</td>\n",
              "      <td>0.440627</td>\n",
              "      <td>02:50</td>\n",
              "    </tr>\n",
              "  </tbody>\n",
              "</table><p>\n",
              "\n",
              "    <div>\n",
              "      <progress value='72' class='' max='83' style='width:300px; height:20px; vertical-align: middle;'></progress>\n",
              "      86.75% [72/83 01:54&lt;00:17 1.2903]\n",
              "    </div>\n",
              "    "
            ],
            "text/plain": [
              "<IPython.core.display.HTML object>"
            ]
          },
          "metadata": {},
          "output_type": "display_data"
        },
        {
          "output_type": "display_data",
          "data": {
            "text/plain": [
              "<IPython.core.display.HTML object>"
            ],
            "text/html": [
              "<table border=\"1\" class=\"dataframe\">\n",
              "  <thead>\n",
              "    <tr style=\"text-align: left;\">\n",
              "      <th>epoch</th>\n",
              "      <th>train_loss</th>\n",
              "      <th>valid_loss</th>\n",
              "      <th>accuracy</th>\n",
              "      <th>time</th>\n",
              "    </tr>\n",
              "  </thead>\n",
              "  <tbody>\n",
              "    <tr>\n",
              "      <td>0</td>\n",
              "      <td>1.603324</td>\n",
              "      <td>2.374149</td>\n",
              "      <td>0.440627</td>\n",
              "      <td>02:50</td>\n",
              "    </tr>\n",
              "    <tr>\n",
              "      <td>1</td>\n",
              "      <td>1.256943</td>\n",
              "      <td>1.532799</td>\n",
              "      <td>0.557879</td>\n",
              "      <td>02:41</td>\n",
              "    </tr>\n",
              "    <tr>\n",
              "      <td>2</td>\n",
              "      <td>0.943666</td>\n",
              "      <td>0.870385</td>\n",
              "      <td>0.732636</td>\n",
              "      <td>02:38</td>\n",
              "    </tr>\n",
              "    <tr>\n",
              "      <td>3</td>\n",
              "      <td>0.736266</td>\n",
              "      <td>0.667811</td>\n",
              "      <td>0.796863</td>\n",
              "      <td>02:39</td>\n",
              "    </tr>\n",
              "  </tbody>\n",
              "</table>"
            ]
          },
          "metadata": {}
        }
      ]
    },
    {
      "cell_type": "code",
      "source": [
        "# Replace the DataLoaders inside the Learner and fine-tune:\n",
        "\n",
        "learn.dls = get_dls(64, 224)\n",
        "\n",
        "learn.fine_tune(5, 1e-3)"
      ],
      "metadata": {
        "id": "81B_Z0TLgEme",
        "colab": {
          "base_uri": "https://localhost:8080/",
          "height": 270
        },
        "outputId": "5ef357bf-8f73-4c5f-eafa-6d4e78ac1ef6"
      },
      "execution_count": 9,
      "outputs": [
        {
          "output_type": "display_data",
          "data": {
            "text/plain": [
              "<IPython.core.display.HTML object>"
            ],
            "text/html": [
              "\n",
              "<style>\n",
              "    /* Turns off some styling */\n",
              "    progress {\n",
              "        /* gets rid of default border in Firefox and Opera. */\n",
              "        border: none;\n",
              "        /* Needs to be in here for Safari polyfill so background images work as expected. */\n",
              "        background-size: auto;\n",
              "    }\n",
              "    progress:not([value]), progress:not([value])::-webkit-progress-bar {\n",
              "        background: repeating-linear-gradient(45deg, #7e7e7e, #7e7e7e 10px, #5c5c5c 10px, #5c5c5c 20px);\n",
              "    }\n",
              "    .progress-bar-interrupted, .progress-bar-interrupted::-webkit-progress-bar {\n",
              "        background: #F44336;\n",
              "    }\n",
              "</style>\n"
            ]
          },
          "metadata": {}
        },
        {
          "output_type": "display_data",
          "data": {
            "text/plain": [
              "<IPython.core.display.HTML object>"
            ],
            "text/html": [
              "<table border=\"1\" class=\"dataframe\">\n",
              "  <thead>\n",
              "    <tr style=\"text-align: left;\">\n",
              "      <th>epoch</th>\n",
              "      <th>train_loss</th>\n",
              "      <th>valid_loss</th>\n",
              "      <th>accuracy</th>\n",
              "      <th>time</th>\n",
              "    </tr>\n",
              "  </thead>\n",
              "  <tbody>\n",
              "    <tr>\n",
              "      <td>0</td>\n",
              "      <td>0.824582</td>\n",
              "      <td>1.060832</td>\n",
              "      <td>0.671770</td>\n",
              "      <td>03:09</td>\n",
              "    </tr>\n",
              "  </tbody>\n",
              "</table>"
            ]
          },
          "metadata": {}
        },
        {
          "output_type": "display_data",
          "data": {
            "text/plain": [
              "<IPython.core.display.HTML object>"
            ],
            "text/html": [
              "\n",
              "<style>\n",
              "    /* Turns off some styling */\n",
              "    progress {\n",
              "        /* gets rid of default border in Firefox and Opera. */\n",
              "        border: none;\n",
              "        /* Needs to be in here for Safari polyfill so background images work as expected. */\n",
              "        background-size: auto;\n",
              "    }\n",
              "    progress:not([value]), progress:not([value])::-webkit-progress-bar {\n",
              "        background: repeating-linear-gradient(45deg, #7e7e7e, #7e7e7e 10px, #5c5c5c 10px, #5c5c5c 20px);\n",
              "    }\n",
              "    .progress-bar-interrupted, .progress-bar-interrupted::-webkit-progress-bar {\n",
              "        background: #F44336;\n",
              "    }\n",
              "</style>\n"
            ]
          },
          "metadata": {}
        },
        {
          "output_type": "display_data",
          "data": {
            "text/plain": [
              "<IPython.core.display.HTML object>"
            ],
            "text/html": [
              "<table border=\"1\" class=\"dataframe\">\n",
              "  <thead>\n",
              "    <tr style=\"text-align: left;\">\n",
              "      <th>epoch</th>\n",
              "      <th>train_loss</th>\n",
              "      <th>valid_loss</th>\n",
              "      <th>accuracy</th>\n",
              "      <th>time</th>\n",
              "    </tr>\n",
              "  </thead>\n",
              "  <tbody>\n",
              "    <tr>\n",
              "      <td>0</td>\n",
              "      <td>0.657201</td>\n",
              "      <td>0.775802</td>\n",
              "      <td>0.764376</td>\n",
              "      <td>03:07</td>\n",
              "    </tr>\n",
              "    <tr>\n",
              "      <td>1</td>\n",
              "      <td>0.674283</td>\n",
              "      <td>0.691783</td>\n",
              "      <td>0.790142</td>\n",
              "      <td>03:06</td>\n",
              "    </tr>\n",
              "    <tr>\n",
              "      <td>2</td>\n",
              "      <td>0.598348</td>\n",
              "      <td>0.646753</td>\n",
              "      <td>0.796863</td>\n",
              "      <td>03:04</td>\n",
              "    </tr>\n",
              "    <tr>\n",
              "      <td>3</td>\n",
              "      <td>0.489432</td>\n",
              "      <td>0.478447</td>\n",
              "      <td>0.846901</td>\n",
              "      <td>03:03</td>\n",
              "    </tr>\n",
              "    <tr>\n",
              "      <td>4</td>\n",
              "      <td>0.431939</td>\n",
              "      <td>0.446233</td>\n",
              "      <td>0.855116</td>\n",
              "      <td>03:03</td>\n",
              "    </tr>\n",
              "  </tbody>\n",
              "</table>"
            ]
          },
          "metadata": {}
        }
      ]
    },
    {
      "cell_type": "markdown",
      "source": [
        "**Test time augmentation**: During inference or validation, creating multiple versions of each image, using data augmentation, and then taking the average or maximum of the predictions for each augmented version of the image.\n",
        "\n",
        "Can pass any `DataLoader` to fastai's `tta` method. Will use the validation set by default:"
      ],
      "metadata": {
        "id": "TfQ3qdhkikkt"
      }
    },
    {
      "cell_type": "code",
      "source": [
        "preds, targs = learn.tta()\n",
        "\n",
        "accuracy(preds, targs).item()"
      ],
      "metadata": {
        "id": "7YRIIb_Biuyy",
        "colab": {
          "base_uri": "https://localhost:8080/",
          "height": 55
        },
        "outputId": "00411249-2528-4827-e6ba-72de7f7ef9b2"
      },
      "execution_count": 10,
      "outputs": [
        {
          "output_type": "display_data",
          "data": {
            "text/plain": [
              "<IPython.core.display.HTML object>"
            ],
            "text/html": [
              "\n",
              "<style>\n",
              "    /* Turns off some styling */\n",
              "    progress {\n",
              "        /* gets rid of default border in Firefox and Opera. */\n",
              "        border: none;\n",
              "        /* Needs to be in here for Safari polyfill so background images work as expected. */\n",
              "        background-size: auto;\n",
              "    }\n",
              "    progress:not([value]), progress:not([value])::-webkit-progress-bar {\n",
              "        background: repeating-linear-gradient(45deg, #7e7e7e, #7e7e7e 10px, #5c5c5c 10px, #5c5c5c 20px);\n",
              "    }\n",
              "    .progress-bar-interrupted, .progress-bar-interrupted::-webkit-progress-bar {\n",
              "        background: #F44336;\n",
              "    }\n",
              "</style>\n"
            ]
          },
          "metadata": {}
        },
        {
          "output_type": "display_data",
          "data": {
            "text/plain": [
              "<IPython.core.display.HTML object>"
            ],
            "text/html": [
              "\n",
              "    <div>\n",
              "      <progress value='0' class='' max='5' style='width:300px; height:20px; vertical-align: middle;'></progress>\n",
              "      \n",
              "    </div>\n",
              "    \n"
            ]
          },
          "metadata": {}
        },
        {
          "output_type": "display_data",
          "data": {
            "text/plain": [
              "<IPython.core.display.HTML object>"
            ],
            "text/html": [
              "\n",
              "<style>\n",
              "    /* Turns off some styling */\n",
              "    progress {\n",
              "        /* gets rid of default border in Firefox and Opera. */\n",
              "        border: none;\n",
              "        /* Needs to be in here for Safari polyfill so background images work as expected. */\n",
              "        background-size: auto;\n",
              "    }\n",
              "    progress:not([value]), progress:not([value])::-webkit-progress-bar {\n",
              "        background: repeating-linear-gradient(45deg, #7e7e7e, #7e7e7e 10px, #5c5c5c 10px, #5c5c5c 20px);\n",
              "    }\n",
              "    .progress-bar-interrupted, .progress-bar-interrupted::-webkit-progress-bar {\n",
              "        background: #F44336;\n",
              "    }\n",
              "</style>\n"
            ]
          },
          "metadata": {}
        },
        {
          "output_type": "display_data",
          "data": {
            "text/plain": [
              "<IPython.core.display.HTML object>"
            ],
            "text/html": []
          },
          "metadata": {}
        },
        {
          "output_type": "execute_result",
          "data": {
            "text/plain": [
              "0.8666915893554688"
            ]
          },
          "metadata": {},
          "execution_count": 10
        }
      ]
    },
    {
      "cell_type": "markdown",
      "source": [
        "## Mixup\n",
        "\n",
        "Really powerful data augmentation technique that can provide dramatically higher accuracy, especially when you don't have much data and don't have a pretrained model that was trained on data similar to your dataset.\n",
        "\n",
        "How it works for each image:\n",
        "\n",
        "1. Select another image from your dataset at random.\n",
        "2. Pick a weight at random.\n",
        "3. Take a weighted average (using the weight from step 2) of the selected image with your image; this will be your independent variable.\n",
        "4. Take a weighted average (with the same weight) of this image's labels with your image's labels; this will be your dependent variable.\n",
        "\n",
        "Example for when we take a linear combination of images, as done in Mixup:"
      ],
      "metadata": {
        "id": "tWzdsI9xjCmb"
      }
    },
    {
      "cell_type": "code",
      "source": [
        "#caption Mixing a church and a gas station\n",
        "#alt An image of a church, a gas station and the two mixed up.\n",
        "church = PILImage.create(get_image_files_sorted(path/'train'/'n03028079')[0])\n",
        "gas = PILImage.create(get_image_files_sorted(path/'train'/'n03425413')[0])\n",
        "church = church.resize((256,256))\n",
        "gas = gas.resize((256,256))\n",
        "tchurch = tensor(church).float() / 255.\n",
        "tgas = tensor(gas).float() / 255.\n",
        "\n",
        "_,axs = plt.subplots(1, 3, figsize=(12,4))\n",
        "show_image(tchurch, ax=axs[0]);\n",
        "show_image(tgas, ax=axs[1]);\n",
        "show_image((0.3*tchurch + 0.7*tgas), ax=axs[2]);"
      ],
      "metadata": {
        "id": "ATd_tfBDi7BQ",
        "colab": {
          "base_uri": "https://localhost:8080/",
          "height": 241
        },
        "outputId": "c6ffaf1e-5b07-44ff-e035-d00326cff897"
      },
      "execution_count": 11,
      "outputs": [
        {
          "output_type": "error",
          "ename": "NameError",
          "evalue": "ignored",
          "traceback": [
            "\u001b[0;31m---------------------------------------------------------------------------\u001b[0m",
            "\u001b[0;31mNameError\u001b[0m                                 Traceback (most recent call last)",
            "\u001b[0;32m<ipython-input-11-66cce05d3654>\u001b[0m in \u001b[0;36m<cell line: 3>\u001b[0;34m()\u001b[0m\n\u001b[1;32m      1\u001b[0m \u001b[0;31m#caption Mixing a church and a gas station\u001b[0m\u001b[0;34m\u001b[0m\u001b[0;34m\u001b[0m\u001b[0m\n\u001b[1;32m      2\u001b[0m \u001b[0;31m#alt An image of a church, a gas station and the two mixed up.\u001b[0m\u001b[0;34m\u001b[0m\u001b[0;34m\u001b[0m\u001b[0m\n\u001b[0;32m----> 3\u001b[0;31m \u001b[0mchurch\u001b[0m \u001b[0;34m=\u001b[0m \u001b[0mPILImage\u001b[0m\u001b[0;34m.\u001b[0m\u001b[0mcreate\u001b[0m\u001b[0;34m(\u001b[0m\u001b[0mget_image_files_sorted\u001b[0m\u001b[0;34m(\u001b[0m\u001b[0mpath\u001b[0m\u001b[0;34m/\u001b[0m\u001b[0;34m'train'\u001b[0m\u001b[0;34m/\u001b[0m\u001b[0;34m'n03028079'\u001b[0m\u001b[0;34m)\u001b[0m\u001b[0;34m[\u001b[0m\u001b[0;36m0\u001b[0m\u001b[0;34m]\u001b[0m\u001b[0;34m)\u001b[0m\u001b[0;34m\u001b[0m\u001b[0;34m\u001b[0m\u001b[0m\n\u001b[0m\u001b[1;32m      4\u001b[0m \u001b[0mgas\u001b[0m \u001b[0;34m=\u001b[0m \u001b[0mPILImage\u001b[0m\u001b[0;34m.\u001b[0m\u001b[0mcreate\u001b[0m\u001b[0;34m(\u001b[0m\u001b[0mget_image_files_sorted\u001b[0m\u001b[0;34m(\u001b[0m\u001b[0mpath\u001b[0m\u001b[0;34m/\u001b[0m\u001b[0;34m'train'\u001b[0m\u001b[0;34m/\u001b[0m\u001b[0;34m'n03425413'\u001b[0m\u001b[0;34m)\u001b[0m\u001b[0;34m[\u001b[0m\u001b[0;36m0\u001b[0m\u001b[0;34m]\u001b[0m\u001b[0;34m)\u001b[0m\u001b[0;34m\u001b[0m\u001b[0;34m\u001b[0m\u001b[0m\n\u001b[1;32m      5\u001b[0m \u001b[0mchurch\u001b[0m \u001b[0;34m=\u001b[0m \u001b[0mchurch\u001b[0m\u001b[0;34m.\u001b[0m\u001b[0mresize\u001b[0m\u001b[0;34m(\u001b[0m\u001b[0;34m(\u001b[0m\u001b[0;36m256\u001b[0m\u001b[0;34m,\u001b[0m\u001b[0;36m256\u001b[0m\u001b[0;34m)\u001b[0m\u001b[0;34m)\u001b[0m\u001b[0;34m\u001b[0m\u001b[0;34m\u001b[0m\u001b[0m\n",
            "\u001b[0;31mNameError\u001b[0m: name 'get_image_files_sorted' is not defined"
          ]
        }
      ]
    },
    {
      "cell_type": "markdown",
      "source": [
        "The third image is built by adding 0.3 times the first one and 0.7 times the second. In this example, should the model predict \"church\" or \"gas station\"? The right answer is 30% church and 70% gas station, since that's what we'll get if we take the linear combination of the one-hot-encoded targets. This is done using a *callback* to our `Learner`. `Callback` is what fastai uses to inject custom behavior in the training loop (like a learning rate schedule, or training in mixed precision).\n",
        "\n",
        "For now, just do this to train a model with Mixup:"
      ],
      "metadata": {
        "id": "dTzzgp46mGeG"
      }
    },
    {
      "cell_type": "code",
      "source": [
        "model = xresnet50(n_out=dls.c)\n",
        "\n",
        "learn = Learner(dls, model,\n",
        "loss_func=CrossEntropyLossFlat(),\n",
        "                metrics=accuracy, cbs=MixUp())\n",
        "\n",
        "learn.fit_one_cycle(5, 3e-3)"
      ],
      "metadata": {
        "colab": {
          "base_uri": "https://localhost:8080/",
          "height": 206
        },
        "id": "zs1Q7rsklTcY",
        "outputId": "a94b43c1-e972-4703-8e12-5b2cf39cf278"
      },
      "execution_count": 12,
      "outputs": [
        {
          "output_type": "display_data",
          "data": {
            "text/plain": [
              "<IPython.core.display.HTML object>"
            ],
            "text/html": [
              "\n",
              "<style>\n",
              "    /* Turns off some styling */\n",
              "    progress {\n",
              "        /* gets rid of default border in Firefox and Opera. */\n",
              "        border: none;\n",
              "        /* Needs to be in here for Safari polyfill so background images work as expected. */\n",
              "        background-size: auto;\n",
              "    }\n",
              "    progress:not([value]), progress:not([value])::-webkit-progress-bar {\n",
              "        background: repeating-linear-gradient(45deg, #7e7e7e, #7e7e7e 10px, #5c5c5c 10px, #5c5c5c 20px);\n",
              "    }\n",
              "    .progress-bar-interrupted, .progress-bar-interrupted::-webkit-progress-bar {\n",
              "        background: #F44336;\n",
              "    }\n",
              "</style>\n"
            ]
          },
          "metadata": {}
        },
        {
          "output_type": "display_data",
          "data": {
            "text/plain": [
              "<IPython.core.display.HTML object>"
            ],
            "text/html": [
              "<table border=\"1\" class=\"dataframe\">\n",
              "  <thead>\n",
              "    <tr style=\"text-align: left;\">\n",
              "      <th>epoch</th>\n",
              "      <th>train_loss</th>\n",
              "      <th>valid_loss</th>\n",
              "      <th>accuracy</th>\n",
              "      <th>time</th>\n",
              "    </tr>\n",
              "  </thead>\n",
              "  <tbody>\n",
              "    <tr>\n",
              "      <td>0</td>\n",
              "      <td>1.891370</td>\n",
              "      <td>2.151761</td>\n",
              "      <td>0.419343</td>\n",
              "      <td>02:55</td>\n",
              "    </tr>\n",
              "    <tr>\n",
              "      <td>1</td>\n",
              "      <td>1.666307</td>\n",
              "      <td>1.430972</td>\n",
              "      <td>0.566468</td>\n",
              "      <td>03:07</td>\n",
              "    </tr>\n",
              "    <tr>\n",
              "      <td>2</td>\n",
              "      <td>1.458442</td>\n",
              "      <td>1.182680</td>\n",
              "      <td>0.640777</td>\n",
              "      <td>02:50</td>\n",
              "    </tr>\n",
              "    <tr>\n",
              "      <td>3</td>\n",
              "      <td>1.318334</td>\n",
              "      <td>0.845568</td>\n",
              "      <td>0.748693</td>\n",
              "      <td>02:43</td>\n",
              "    </tr>\n",
              "    <tr>\n",
              "      <td>4</td>\n",
              "      <td>1.201527</td>\n",
              "      <td>0.711317</td>\n",
              "      <td>0.785661</td>\n",
              "      <td>02:44</td>\n",
              "    </tr>\n",
              "  </tbody>\n",
              "</table>"
            ]
          },
          "metadata": {}
        }
      ]
    },
    {
      "cell_type": "markdown",
      "source": [
        "Potential issue with labeling and one-hot encoding: we only have 0s and 1s, but in reality we should be something like 95% confident. Things start to break down if our data isn't perfectly labeled, which never happens. This encourages overfitting and can make your models shit.\n",
        "\n",
        "Solution to this is to *label smooth*, where we replace all of our 1s with a number a bit less than 1, and our 0s by a number a bit less than 0, and then train. This forces the algorithm to be more humble which is always good."
      ],
      "metadata": {
        "id": "6BLPBh3lrtEB"
      }
    },
    {
      "cell_type": "code",
      "source": [],
      "metadata": {
        "id": "i_-ZXHEDrDNp"
      },
      "execution_count": null,
      "outputs": []
    }
  ]
}