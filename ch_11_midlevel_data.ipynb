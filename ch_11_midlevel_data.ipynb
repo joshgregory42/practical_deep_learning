{
  "nbformat": 4,
  "nbformat_minor": 0,
  "metadata": {
    "colab": {
      "provenance": [],
      "authorship_tag": "ABX9TyMHWEyLrL8EJ8GFEkDBm3Xl",
      "include_colab_link": true
    },
    "kernelspec": {
      "name": "python3",
      "display_name": "Python 3"
    },
    "language_info": {
      "name": "python"
    }
  },
  "cells": [
    {
      "cell_type": "markdown",
      "metadata": {
        "id": "view-in-github",
        "colab_type": "text"
      },
      "source": [
        "<a href=\"https://colab.research.google.com/github/joshgregory42/practical_deep_learning/blob/main/ch_11_midlevel_data.ipynb\" target=\"_parent\"><img src=\"https://colab.research.google.com/assets/colab-badge.svg\" alt=\"Open In Colab\"/></a>"
      ]
    },
    {
      "cell_type": "markdown",
      "source": [
        "# Data Munging with fastai's Mid-Level API\n",
        "\n",
        "## Going Deeper into fastai's Layered API"
      ],
      "metadata": {
        "id": "WSNs_8Td2n6c"
      }
    },
    {
      "cell_type": "code",
      "execution_count": 1,
      "metadata": {
        "colab": {
          "base_uri": "https://localhost:8080/",
          "height": 37
        },
        "id": "V-WbTESq2iLS",
        "outputId": "5125728e-08c8-4218-87d1-ba1c3948a6eb"
      },
      "outputs": [
        {
          "output_type": "display_data",
          "data": {
            "text/plain": [
              "<IPython.core.display.HTML object>"
            ],
            "text/html": [
              "\n",
              "<style>\n",
              "    /* Turns off some styling */\n",
              "    progress {\n",
              "        /* gets rid of default border in Firefox and Opera. */\n",
              "        border: none;\n",
              "        /* Needs to be in here for Safari polyfill so background images work as expected. */\n",
              "        background-size: auto;\n",
              "    }\n",
              "    progress:not([value]), progress:not([value])::-webkit-progress-bar {\n",
              "        background: repeating-linear-gradient(45deg, #7e7e7e, #7e7e7e 10px, #5c5c5c 10px, #5c5c5c 20px);\n",
              "    }\n",
              "    .progress-bar-interrupted, .progress-bar-interrupted::-webkit-progress-bar {\n",
              "        background: #F44336;\n",
              "    }\n",
              "</style>\n"
            ]
          },
          "metadata": {}
        },
        {
          "output_type": "display_data",
          "data": {
            "text/plain": [
              "<IPython.core.display.HTML object>"
            ],
            "text/html": [
              "\n",
              "    <div>\n",
              "      <progress value='144441344' class='' max='144440600' style='width:300px; height:20px; vertical-align: middle;'></progress>\n",
              "      100.00% [144441344/144440600 00:02&lt;00:00]\n",
              "    </div>\n",
              "    "
            ]
          },
          "metadata": {}
        },
        {
          "output_type": "display_data",
          "data": {
            "text/plain": [
              "<IPython.core.display.HTML object>"
            ],
            "text/html": [
              "\n",
              "<style>\n",
              "    /* Turns off some styling */\n",
              "    progress {\n",
              "        /* gets rid of default border in Firefox and Opera. */\n",
              "        border: none;\n",
              "        /* Needs to be in here for Safari polyfill so background images work as expected. */\n",
              "        background-size: auto;\n",
              "    }\n",
              "    progress:not([value]), progress:not([value])::-webkit-progress-bar {\n",
              "        background: repeating-linear-gradient(45deg, #7e7e7e, #7e7e7e 10px, #5c5c5c 10px, #5c5c5c 20px);\n",
              "    }\n",
              "    .progress-bar-interrupted, .progress-bar-interrupted::-webkit-progress-bar {\n",
              "        background: #F44336;\n",
              "    }\n",
              "</style>\n"
            ]
          },
          "metadata": {}
        },
        {
          "output_type": "display_data",
          "data": {
            "text/plain": [
              "<IPython.core.display.HTML object>"
            ],
            "text/html": []
          },
          "metadata": {}
        }
      ],
      "source": [
        "from fastai.text.all import *\n",
        "\n",
        "dls = TextDataLoaders.from_folder(untar_data(URLs.IMDB), valid='test')"
      ]
    },
    {
      "cell_type": "markdown",
      "source": [
        "Factory method `TextDatLoaders.from_folder` is fine when the data is arranged in the exact same way as the IMDb dataset, but that usually doesn't happen. This is where the data block API offers more flexibility. Can get the same result with:"
      ],
      "metadata": {
        "id": "3Z_QYklvXi48"
      }
    },
    {
      "cell_type": "code",
      "source": [
        "path = untar_data(URLs.IMDB)\n",
        "\n",
        "dls = DataBlock(\n",
        "    blocks=(TextBlock.from_folder(path), CategoryBlock),\n",
        "    get_y = parent_label,\n",
        "    get_items = partial(get_text_files, folders=['train', 'test']),\n",
        "    splitter = GrandparentSplitter(valid_name='test')\n",
        ").dataloaders(path)"
      ],
      "metadata": {
        "id": "rfOIkI8x3CDI"
      },
      "execution_count": 2,
      "outputs": []
    },
    {
      "cell_type": "markdown",
      "source": [
        "## Transforms\n",
        "\n",
        "When we looked at tokenization and numericlization, started by grabbing a bunch of texts:"
      ],
      "metadata": {
        "id": "ztkFHcRhYUiy"
      }
    },
    {
      "cell_type": "code",
      "source": [
        "files = get_text_files(path, folders = ['train', 'test'])\n",
        "txts = L(o.open().read() for o in files[:2000])"
      ],
      "metadata": {
        "id": "jpvZG3wXYOHS"
      },
      "execution_count": 3,
      "outputs": []
    },
    {
      "cell_type": "code",
      "source": [
        "# Tokenize with a tokenizer\n",
        "\n",
        "tok = Tokenizer.from_folder(path)\n",
        "tok.setup(txts)\n",
        "toks = txts.map(tok)\n",
        "\n",
        "toks[0]"
      ],
      "metadata": {
        "colab": {
          "base_uri": "https://localhost:8080/"
        },
        "id": "z5wee3jiYhtF",
        "outputId": "8c01dd49-d56c-410d-fd46-90ad87554703"
      },
      "execution_count": 4,
      "outputs": [
        {
          "output_type": "execute_result",
          "data": {
            "text/plain": [
              "(#190) ['xxbos','i','opted','to','see','the','film','at','the','recent'...]"
            ]
          },
          "metadata": {},
          "execution_count": 4
        }
      ]
    },
    {
      "cell_type": "code",
      "source": [
        "# Numericalize\n",
        "\n",
        "num = Numericalize()\n",
        "num.setup(toks)\n",
        "\n",
        "nums = toks.map(num)\n",
        "nums[0][:10]"
      ],
      "metadata": {
        "colab": {
          "base_uri": "https://localhost:8080/"
        },
        "id": "LfkApWO4YorL",
        "outputId": "7fecb54b-7eea-4cae-c51e-02c0cb1fd546"
      },
      "execution_count": 5,
      "outputs": [
        {
          "output_type": "execute_result",
          "data": {
            "text/plain": [
              "TensorText([   2,   18, 7936,   14,   91,    9,   33,   47,    9, 1415])"
            ]
          },
          "metadata": {},
          "execution_count": 5
        }
      ]
    },
    {
      "cell_type": "markdown",
      "source": [
        "Can also use the `decode` method to get back the string tokens:"
      ],
      "metadata": {
        "id": "dQmdxC_NY8H3"
      }
    },
    {
      "cell_type": "code",
      "source": [
        "nums_dec = num.decode(nums[0][:10]);\n",
        "\n",
        "nums_dec"
      ],
      "metadata": {
        "colab": {
          "base_uri": "https://localhost:8080/"
        },
        "id": "kq6fXff6YwJM",
        "outputId": "b567c059-35d4-436b-e233-2a6cdf8f4216"
      },
      "execution_count": 6,
      "outputs": [
        {
          "output_type": "execute_result",
          "data": {
            "text/plain": [
              "(#10) ['xxbos','i','opted','to','see','the','film','at','the','recent']"
            ]
          },
          "metadata": {},
          "execution_count": 6
        }
      ]
    },
    {
      "cell_type": "markdown",
      "source": [
        "`Tokenizer.decode` turns this back into a single string (getting the original string exactly depends on whether the tokenizer is reversible):"
      ],
      "metadata": {
        "id": "NDOU_CtLZE6V"
      }
    },
    {
      "cell_type": "code",
      "source": [
        "tok.decode(nums_dec)"
      ],
      "metadata": {
        "colab": {
          "base_uri": "https://localhost:8080/",
          "height": 35
        },
        "id": "-QOfTYUdZC-P",
        "outputId": "1a93ae07-fa4e-4980-f83a-749666240076"
      },
      "execution_count": 7,
      "outputs": [
        {
          "output_type": "execute_result",
          "data": {
            "text/plain": [
              "'xxbos i opted to see the film at the recent'"
            ],
            "application/vnd.google.colaboratory.intrinsic+json": {
              "type": "string"
            }
          },
          "metadata": {},
          "execution_count": 7
        }
      ]
    },
    {
      "cell_type": "markdown",
      "source": [
        "## Writing Your Own Transform\n",
        "\n",
        "Easiest way is to just write a function:"
      ],
      "metadata": {
        "id": "KPxblqMwZyrU"
      }
    },
    {
      "cell_type": "code",
      "source": [
        "def f(x:int): return x+1\n",
        "\n",
        "tfm = Transform(f)\n",
        "\n",
        "tfm(2), tfm(2.0)"
      ],
      "metadata": {
        "colab": {
          "base_uri": "https://localhost:8080/"
        },
        "id": "cux5ALxPZV-1",
        "outputId": "e1624feb-4789-4823-b141-6ae9066de209"
      },
      "execution_count": 8,
      "outputs": [
        {
          "output_type": "execute_result",
          "data": {
            "text/plain": [
              "(3, 2.0)"
            ]
          },
          "metadata": {},
          "execution_count": 8
        }
      ]
    },
    {
      "cell_type": "markdown",
      "source": [
        "Can use a *callable* decorator to pass a function to another function:"
      ],
      "metadata": {
        "id": "5-I0xwlubt42"
      }
    },
    {
      "cell_type": "code",
      "source": [
        "@Transform\n",
        "def f(x:int): return x+1\n",
        "\n",
        "f(2), f(2.0)"
      ],
      "metadata": {
        "colab": {
          "base_uri": "https://localhost:8080/"
        },
        "id": "Jsch-tOqZ7S1",
        "outputId": "5838cd16-10fd-4b16-8c25-a1214eed8b4d"
      },
      "execution_count": 9,
      "outputs": [
        {
          "output_type": "execute_result",
          "data": {
            "text/plain": [
              "(3, 2.0)"
            ]
          },
          "metadata": {},
          "execution_count": 9
        }
      ]
    },
    {
      "cell_type": "markdown",
      "source": [
        "## Pipeline\n",
        "\n",
        "To compose several transforms together, use the `Pipeline` class by passing it a list of `Transforms`. When a `Pipeline` is called on an object, it will automatically call the transforms inside, in order:"
      ],
      "metadata": {
        "id": "JNu5VrsTfeHP"
      }
    },
    {
      "cell_type": "code",
      "source": [
        "tfms = Pipeline([tok, num])\n",
        "\n",
        "t = tfms(txts[0]);\n",
        "\n",
        "t[:20]"
      ],
      "metadata": {
        "colab": {
          "base_uri": "https://localhost:8080/"
        },
        "id": "KDyhvuoLfWXM",
        "outputId": "d18ff968-45ee-47c1-b991-07e1e94f39e1"
      },
      "execution_count": 10,
      "outputs": [
        {
          "output_type": "execute_result",
          "data": {
            "text/plain": [
              "TensorText([   2,   18, 7936,   14,   91,    9,   33,   47,    9, 1415,    8,\n",
              "               0,    8,   33,    8, 1546,  101,   17,   85,   95])"
            ]
          },
          "metadata": {},
          "execution_count": 10
        }
      ]
    },
    {
      "cell_type": "code",
      "source": [
        "# Decode to display\n",
        "\n",
        "tfms.decode(t)[:100]"
      ],
      "metadata": {
        "colab": {
          "base_uri": "https://localhost:8080/",
          "height": 53
        },
        "id": "lfss9Rvifx2d",
        "outputId": "2ec181ba-0850-430d-c91c-1521bac181ed"
      },
      "execution_count": 11,
      "outputs": [
        {
          "output_type": "execute_result",
          "data": {
            "text/plain": [
              "'xxbos i opted to see the film at the recent xxmaj xxunk xxmaj film xxmaj festival because it had bee'"
            ],
            "application/vnd.google.colaboratory.intrinsic+json": {
              "type": "string"
            }
          },
          "metadata": {},
          "execution_count": 11
        }
      ]
    },
    {
      "cell_type": "markdown",
      "source": [
        "Issue here is the setup, which si different than in `Transform`. To properly set up a `Pipeline` of `Transform`, need to use a `TfmdLists`."
      ],
      "metadata": {
        "id": "fhwFu2EZf8Ui"
      }
    },
    {
      "cell_type": "markdown",
      "source": [
        "## TfmdLists and Datasets: Transformed Collections\n",
        "\n",
        "Data isalmost always a set of raw items (i.e. filenames, or rows in a DataFrame) that we want to supply a succession of transformations to. The class that groups together `Pipeline` and our raw items is called `Tfmdlists`.\n",
        "\n",
        "Short way of doing the transformation we saw in the previous section:"
      ],
      "metadata": {
        "id": "o59pE7rsgGHN"
      }
    },
    {
      "cell_type": "code",
      "source": [
        "tls = TfmdLists(files, [Tokenizer.from_folder(path), Numericalize])"
      ],
      "metadata": {
        "id": "1SSt2WnZf1qe"
      },
      "execution_count": 12,
      "outputs": []
    },
    {
      "cell_type": "markdown",
      "source": [
        "Can get the result of our `Pipeline` on any raw element by indexing into the `TfmdLists`:"
      ],
      "metadata": {
        "id": "FYrzun3MgigJ"
      }
    },
    {
      "cell_type": "code",
      "source": [
        "t = tls[0]; t[:20]"
      ],
      "metadata": {
        "colab": {
          "base_uri": "https://localhost:8080/"
        },
        "id": "5CpCq1y1gfko",
        "outputId": "68af181d-c97a-4814-84b7-4bdcc138786c"
      },
      "execution_count": 13,
      "outputs": [
        {
          "output_type": "execute_result",
          "data": {
            "text/plain": [
              "TensorText([    2,    19, 10596,    15,    86,     9,    32,    46,     9,\n",
              "             1191,     8, 30597,     8,    32,     8,  1352,   108,    17,\n",
              "               87,    99])"
            ]
          },
          "metadata": {},
          "execution_count": 13
        }
      ]
    },
    {
      "cell_type": "code",
      "source": [
        "# Can also decode\n",
        "\n",
        "tls.decode(t)[:100]"
      ],
      "metadata": {
        "colab": {
          "base_uri": "https://localhost:8080/",
          "height": 53
        },
        "id": "sgQVvp4WgqzG",
        "outputId": "53dfa46c-2501-4a0e-abdb-9ab806414c83"
      },
      "execution_count": 14,
      "outputs": [
        {
          "output_type": "execute_result",
          "data": {
            "text/plain": [
              "'xxbos i opted to see the film at the recent xxmaj dubai xxmaj film xxmaj festival because it had bee'"
            ],
            "application/vnd.google.colaboratory.intrinsic+json": {
              "type": "string"
            }
          },
          "metadata": {},
          "execution_count": 14
        }
      ]
    },
    {
      "cell_type": "code",
      "source": [
        "# Can also show:\n",
        "\n",
        "tls.show(t)"
      ],
      "metadata": {
        "colab": {
          "base_uri": "https://localhost:8080/"
        },
        "id": "jiO7A37AgvSa",
        "outputId": "b2740d04-ee74-4408-883a-f2888b4859e7"
      },
      "execution_count": 15,
      "outputs": [
        {
          "output_type": "stream",
          "name": "stdout",
          "text": [
            "xxbos i opted to see the film at the recent xxmaj dubai xxmaj film xxmaj festival because it had been selected to the xxmaj cannes film festival 's prestigious xxmaj competition section . i was surprised that xxmaj cannes could be so off the mark in judging quality . \n",
            "\n",
            " xxmaj the film , some reviewers , have noted does not have too much of gunfire -- but the inherent violence is repulsive . xxmaj imagine killing your enemy / competitor in front of your young son .. or forcing someone to eat a porcelain spoon to prove loyalty . xxmaj there are some hints of the contrasting xxmaj corleone sons in xxmaj copolla 's \" godfather \" that seem to resurface here in this xxmaj chinese / xxmaj hong xxmaj kong film but the quality of the two are as distinctly different as chalk and cheese . \n",
            "\n",
            " xxmaj this film is only recommended for violence junkies .. there is no great cinema here . xxmaj at best it might be considered to be better than the usual xxmaj run xxmaj run xxmaj shaw production for production values .\n"
          ]
        }
      ]
    },
    {
      "cell_type": "markdown",
      "source": [
        "`TfmdLists` has an \"s\" because it can handle both a training and a validation set with a `splits` argument:"
      ],
      "metadata": {
        "id": "hHYyydw5iY1v"
      }
    },
    {
      "cell_type": "code",
      "source": [
        "cut = int(len(files)*0.8)\n",
        "splits = [list(range(cut)), list(range(cut,len(files)))]\n",
        "tls = TfmdLists(files, [Tokenizer.from_folder(path), Numericalize],\n",
        "                splits=splits)"
      ],
      "metadata": {
        "id": "1Ps2Yd_hgyJ8"
      },
      "execution_count": 16,
      "outputs": []
    },
    {
      "cell_type": "markdown",
      "source": [
        "Can access them through the `train` and `valid` attributes:"
      ],
      "metadata": {
        "id": "iCuR-k5gi4uD"
      }
    },
    {
      "cell_type": "code",
      "source": [
        "tls.valid[0][:20]"
      ],
      "metadata": {
        "colab": {
          "base_uri": "https://localhost:8080/"
        },
        "id": "Q7xVcUQeiwCd",
        "outputId": "87c73a8a-6453-49e4-f103-f2ed4b56297e"
      },
      "execution_count": 17,
      "outputs": [
        {
          "output_type": "execute_result",
          "data": {
            "text/plain": [
              "TensorText([   2,    8,  965,   84,   14,   13, 4243,  211, 1537,   50,  717,\n",
              "              61, 4278, 5209,  439,   18,   49, 1600,  142,    8])"
            ]
          },
          "metadata": {},
          "execution_count": 17
        }
      ]
    },
    {
      "cell_type": "markdown",
      "source": [
        "Generally, will have two or more parallel pipelines of transforms: one for processing raw items into inputs, and one to process raw items into targets.\n",
        "\n",
        "For the pipeline here, we only process the raw text into inputs. To do text classification, also need to process the labels into targets.\n",
        "\n",
        "First take the label name from the parent folder:"
      ],
      "metadata": {
        "id": "vyxQ8H8xxKtB"
      }
    },
    {
      "cell_type": "code",
      "source": [
        "lbls = files.map(parent_label)\n",
        "\n",
        "lbls"
      ],
      "metadata": {
        "id": "p7FoVey8i9_c",
        "colab": {
          "base_uri": "https://localhost:8080/"
        },
        "outputId": "42e2d248-1042-468d-9ebc-7110dfd9928f"
      },
      "execution_count": 18,
      "outputs": [
        {
          "output_type": "execute_result",
          "data": {
            "text/plain": [
              "(#50000) ['neg','neg','neg','neg','neg','neg','neg','neg','neg','neg'...]"
            ]
          },
          "metadata": {},
          "execution_count": 18
        }
      ]
    },
    {
      "cell_type": "markdown",
      "source": [
        "Then need a `Transform` to grab the unique items and build a vocab with them during setup, then transform the string labels into integers when called. fastai does this with `Categorize`:"
      ],
      "metadata": {
        "id": "BRwNMcfqyFs9"
      }
    },
    {
      "cell_type": "code",
      "source": [
        "cat = Categorize()\n",
        "cat.setup(lbls)\n",
        "cat.vocab, cat(lbls[0])"
      ],
      "metadata": {
        "colab": {
          "base_uri": "https://localhost:8080/"
        },
        "id": "-9NO7-WjyDp0",
        "outputId": "0cc72f2b-36df-482c-fd57-94e353b6f42b"
      },
      "execution_count": 19,
      "outputs": [
        {
          "output_type": "execute_result",
          "data": {
            "text/plain": [
              "(['neg', 'pos'], TensorCategory(0))"
            ]
          },
          "metadata": {},
          "execution_count": 19
        }
      ]
    },
    {
      "cell_type": "markdown",
      "source": [
        "Can do this whole thing automatically on our list of files with a `TfmdLists`:"
      ],
      "metadata": {
        "id": "SUqcJ8L4yTYT"
      }
    },
    {
      "cell_type": "code",
      "source": [
        "tls_y = TfmdLists(files, [parent_label, Categorize()])\n",
        "tls_y[0]"
      ],
      "metadata": {
        "colab": {
          "base_uri": "https://localhost:8080/"
        },
        "id": "f7cQDEUhyR50",
        "outputId": "93536cb6-d367-4b1c-8ea6-a4bf91b83ad0"
      },
      "execution_count": 20,
      "outputs": [
        {
          "output_type": "execute_result",
          "data": {
            "text/plain": [
              "TensorCategory(0)"
            ]
          },
          "metadata": {},
          "execution_count": 20
        }
      ]
    },
    {
      "cell_type": "markdown",
      "source": [
        "## Datasets\n",
        "\n",
        "`Datasets` applies two or more pipelines in parallel to the same raw object and builds a tuple with the result. Automatically does the setup, and when we index into a `Datasets`, will return a tuple with the results of each pipeline:"
      ],
      "metadata": {
        "id": "xqA02LDB24JO"
      }
    },
    {
      "cell_type": "code",
      "source": [
        "x_tfms = [Tokenizer.from_folder(path), Numericalize]\n",
        "y_tfms = [parent_label, Categorize()]\n",
        "dsets = Datasets(files, [x_tfms, y_tfms])\n",
        "x, y = dsets[0]\n",
        "x[:20], y"
      ],
      "metadata": {
        "colab": {
          "base_uri": "https://localhost:8080/"
        },
        "id": "3ePHQrjsybTU",
        "outputId": "70fc8923-2ebb-4dac-b159-3c5399fa6679"
      },
      "execution_count": 21,
      "outputs": [
        {
          "output_type": "execute_result",
          "data": {
            "text/plain": [
              "(TensorText([    2,    19, 10596,    15,    86,     9,    32,    46,     9,\n",
              "              1191,     8, 30597,     8,    32,     8,  1352,   108,    17,\n",
              "                87,    99]),\n",
              " TensorCategory(0))"
            ]
          },
          "metadata": {},
          "execution_count": 21
        }
      ]
    },
    {
      "cell_type": "markdown",
      "source": [
        "Can also pass along `splits` to split data between training and validation sets:"
      ],
      "metadata": {
        "id": "xij5xXui3XNe"
      }
    },
    {
      "cell_type": "code",
      "source": [
        "x_tfms = [Tokenizer.from_folder(path), Numericalize]\n",
        "y_tfms = [parent_label, Categorize()]\n",
        "dsets = Datasets(files, [x_tfms, y_tfms], splits=splits)\n",
        "x, y = dsets.valid[0]\n",
        "x[:20], y"
      ],
      "metadata": {
        "colab": {
          "base_uri": "https://localhost:8080/"
        },
        "id": "M2D-s25G3UlP",
        "outputId": "e3d5918c-6af6-4b37-9f92-ab6edfc23267"
      },
      "execution_count": 22,
      "outputs": [
        {
          "output_type": "execute_result",
          "data": {
            "text/plain": [
              "(TensorText([   2,    8,  965,   84,   14,   13, 4243,  211, 1537,   50,  717,\n",
              "               61, 4278, 5209,  439,   18,   49, 1600,  142,    8]),\n",
              " TensorCategory(1))"
            ]
          },
          "metadata": {},
          "execution_count": 22
        }
      ]
    },
    {
      "cell_type": "markdown",
      "source": [
        "Can also decode a processed tuple or show it:"
      ],
      "metadata": {
        "id": "48LHi5Rx3xit"
      }
    },
    {
      "cell_type": "code",
      "source": [
        "t = dsets.valid[0]\n",
        "dsets.decode(t)"
      ],
      "metadata": {
        "colab": {
          "base_uri": "https://localhost:8080/"
        },
        "id": "FQw1k0gL3kLk",
        "outputId": "0216b7c4-2223-4fb5-dc6f-c7eb0280212a"
      },
      "execution_count": 23,
      "outputs": [
        {
          "output_type": "execute_result",
          "data": {
            "text/plain": [
              "(\"xxbos xxmaj superb story of a dedicated young teacher who sets out teaching minority children in an area off xxmaj south xxmaj carolina . \\n\\n xxmaj jon xxmaj voight is just tremendous as the headstrong , dedicated , idealistic teacher who faces this challenge despite a principal , who believes in stern discipline and has little regard for modern educational techniques as well as a crusty old school superintendent , played with relish by the late xxmaj hume xxmaj cronyn . xxmaj madge xxmaj sinclair is the principal who loves her babies . \\n\\n xxmaj as xxmaj i 'm a retired teacher , i could in some ways relate to this excellent film . xxmaj the ignorance shown here as well as the lack of cooperation with officials is also quite apparent in urban areas . \\n\\n xxmaj voight realizes that these children need far more than the traditional teachings of a classroom . xxmaj he has them go out and experience life by themselves by learning outdoors . \\n\\n xxmaj the end is a definite downer but so true to life . \\n\\n xxmaj amazing that such backward students had a zest for learning and were well disciplined . i guess that answers my question . xxmaj the behavior was there and they were motivated to succeed despite their environment . \\n\\n xxmaj the ending will just tug at your heart . xxmaj it was memorable and so well poignant .\",\n",
              " 'pos')"
            ]
          },
          "metadata": {},
          "execution_count": 23
        }
      ]
    },
    {
      "cell_type": "markdown",
      "source": [
        "Last step is to convert `Datasets` object to a `DataLoaders`:"
      ],
      "metadata": {
        "id": "6vF7b5m136sR"
      }
    },
    {
      "cell_type": "code",
      "source": [
        "dls = dsets.dataloaders(bs=64, before_batch=pad_input)"
      ],
      "metadata": {
        "id": "Fnf1AXHQ34mp"
      },
      "execution_count": 24,
      "outputs": []
    },
    {
      "cell_type": "markdown",
      "source": [
        "This does the same thing as our previous `DataBlock`:"
      ],
      "metadata": {
        "id": "GMv_rnNi3j3v"
      }
    },
    {
      "cell_type": "code",
      "source": [
        "path = untar_data(URLs.IMDB)\n",
        "dls = DataBlock(\n",
        "    blocks=(TextBlock.from_folder(path),CategoryBlock),\n",
        "    get_y = parent_label,\n",
        "    get_items=partial(get_text_files, folders=['train', 'test']),\n",
        "    splitter=GrandparentSplitter(valid_name='test')\n",
        ").dataloaders(path)"
      ],
      "metadata": {
        "id": "A_udX6yz4EvT"
      },
      "execution_count": 26,
      "outputs": []
    },
    {
      "cell_type": "markdown",
      "source": [
        "## Applying the Mid-Level Data API: SiamesePair\n",
        "\n",
        "**Siamese model**: A model that takes two images and has to determine if they are of the same class or not.\n",
        "\n",
        "Will use the Pet dataset again and prepare the data for a model that will predict if the two images are of the same breed or not.\n",
        "\n",
        "First step is to get the images in our dataset:"
      ],
      "metadata": {
        "id": "tfNmzc2A4Amr"
      }
    },
    {
      "cell_type": "code",
      "source": [
        "from fastai.vision.all import *\n",
        "\n",
        "path = untar_data(URLs.PETS)\n",
        "files = get_image_files(path/'images')"
      ],
      "metadata": {
        "colab": {
          "base_uri": "https://localhost:8080/",
          "height": 37
        },
        "id": "-dUtqDrc3bmi",
        "outputId": "ffc3715c-1c1e-436b-c8f5-f1fe48cc862b"
      },
      "execution_count": 27,
      "outputs": [
        {
          "output_type": "display_data",
          "data": {
            "text/plain": [
              "<IPython.core.display.HTML object>"
            ],
            "text/html": [
              "\n",
              "<style>\n",
              "    /* Turns off some styling */\n",
              "    progress {\n",
              "        /* gets rid of default border in Firefox and Opera. */\n",
              "        border: none;\n",
              "        /* Needs to be in here for Safari polyfill so background images work as expected. */\n",
              "        background-size: auto;\n",
              "    }\n",
              "    progress:not([value]), progress:not([value])::-webkit-progress-bar {\n",
              "        background: repeating-linear-gradient(45deg, #7e7e7e, #7e7e7e 10px, #5c5c5c 10px, #5c5c5c 20px);\n",
              "    }\n",
              "    .progress-bar-interrupted, .progress-bar-interrupted::-webkit-progress-bar {\n",
              "        background: #F44336;\n",
              "    }\n",
              "</style>\n"
            ]
          },
          "metadata": {}
        },
        {
          "output_type": "display_data",
          "data": {
            "text/plain": [
              "<IPython.core.display.HTML object>"
            ],
            "text/html": [
              "\n",
              "    <div>\n",
              "      <progress value='811712512' class='' max='811706944' style='width:300px; height:20px; vertical-align: middle;'></progress>\n",
              "      100.00% [811712512/811706944 00:17&lt;00:00]\n",
              "    </div>\n",
              "    "
            ]
          },
          "metadata": {}
        }
      ]
    },
    {
      "cell_type": "markdown",
      "source": [
        "Wnat to look at all of the images, so need a custom type.\n",
        "\n",
        "Will create a `SiameseImage` object that subclasses `fastuple` and contains three things: two images, and a Boolean that's `True` if the images are of the same breed. Also implement a special `show` method that concatenates the two images with a black line in the middle:"
      ],
      "metadata": {
        "id": "NDSZBF3ZT3eQ"
      }
    },
    {
      "cell_type": "code",
      "source": [
        "class SiameseImage(fastuple):\n",
        "  def show(self, ctx=None, **kwargs):\n",
        "    img1, img2, same_breed = self\n",
        "    if not isinstance(img1, Tensor):\n",
        "      t1, t2 = tensor(img1), tensor(img2)\n",
        "      t1, t2 = t1.permute(2, 0, 1), t2.permute(2, 0, 1)\n",
        "    else: t1, t2 = img1, img2\n",
        "    line = t1.new_zeros(t1.shape[0], t1.shape[1], 10)\n",
        "    return show_image(torch.cat([t1, line, t2], dim=2),\n",
        "                                title=same_breed, ctx=ctx)"
      ],
      "metadata": {
        "id": "5S0Jovrl_S_G"
      },
      "execution_count": 32,
      "outputs": []
    },
    {
      "cell_type": "markdown",
      "source": [
        "Create a first `SiameseImage` and check our `show` method works:"
      ],
      "metadata": {
        "id": "AW6irJP-W_SU"
      }
    },
    {
      "cell_type": "code",
      "source": [
        "img = PILImage.create(files[0])\n",
        "s = SiameseImage(img, img, True)\n",
        "s.show()"
      ],
      "metadata": {
        "colab": {
          "base_uri": "https://localhost:8080/",
          "height": 220
        },
        "id": "_ajmjCf7WfDd",
        "outputId": "735e3e88-40e3-424b-81db-fcda27629421"
      },
      "execution_count": 33,
      "outputs": [
        {
          "output_type": "execute_result",
          "data": {
            "text/plain": [
              "<Axes: title={'center': 'True'}>"
            ]
          },
          "metadata": {},
          "execution_count": 33
        },
        {
          "output_type": "display_data",
          "data": {
            "text/plain": [
              "<Figure size 500x500 with 1 Axes>"
            ],
            "image/png": "[encoded data removed]"
          },
          "metadata": {}
        }
      ]
    },
    {
      "cell_type": "code",
      "source": [
        "img1 = PILImage.create(files[1])\n",
        "s1 = SiameseImage(img, img1, False)\n",
        "s1.show();"
      ],
      "metadata": {
        "colab": {
          "base_uri": "https://localhost:8080/",
          "height": 330
        },
        "id": "fSi2qdRcXHsT",
        "outputId": "d8b69b05-a7a3-461a-c94a-be118211920e"
      },
      "execution_count": 37,
      "outputs": [
        {
          "output_type": "error",
          "ename": "RuntimeError",
          "evalue": "ignored",
          "traceback": [
            "\u001b[0;31m---------------------------------------------------------------------------\u001b[0m",
            "\u001b[0;31mRuntimeError\u001b[0m                              Traceback (most recent call last)",
            "\u001b[0;32m<ipython-input-37-1554610b6059>\u001b[0m in \u001b[0;36m<cell line: 3>\u001b[0;34m()\u001b[0m\n\u001b[1;32m      1\u001b[0m \u001b[0mimg1\u001b[0m \u001b[0;34m=\u001b[0m \u001b[0mPILImage\u001b[0m\u001b[0;34m.\u001b[0m\u001b[0mcreate\u001b[0m\u001b[0;34m(\u001b[0m\u001b[0mfiles\u001b[0m\u001b[0;34m[\u001b[0m\u001b[0;36m1\u001b[0m\u001b[0;34m]\u001b[0m\u001b[0;34m)\u001b[0m\u001b[0;34m\u001b[0m\u001b[0;34m\u001b[0m\u001b[0m\n\u001b[1;32m      2\u001b[0m \u001b[0ms1\u001b[0m \u001b[0;34m=\u001b[0m \u001b[0mSiameseImage\u001b[0m\u001b[0;34m(\u001b[0m\u001b[0mimg\u001b[0m\u001b[0;34m,\u001b[0m \u001b[0mimg1\u001b[0m\u001b[0;34m,\u001b[0m \u001b[0;32mFalse\u001b[0m\u001b[0;34m)\u001b[0m\u001b[0;34m\u001b[0m\u001b[0;34m\u001b[0m\u001b[0m\n\u001b[0;32m----> 3\u001b[0;31m \u001b[0ms1\u001b[0m\u001b[0;34m.\u001b[0m\u001b[0mshow\u001b[0m\u001b[0;34m(\u001b[0m\u001b[0;34m)\u001b[0m\u001b[0;34m;\u001b[0m\u001b[0;34m\u001b[0m\u001b[0;34m\u001b[0m\u001b[0m\n\u001b[0m",
            "\u001b[0;32m<ipython-input-32-07500a6bc280>\u001b[0m in \u001b[0;36mshow\u001b[0;34m(self, ctx, **kwargs)\u001b[0m\n\u001b[1;32m      7\u001b[0m     \u001b[0;32melse\u001b[0m\u001b[0;34m:\u001b[0m \u001b[0mt1\u001b[0m\u001b[0;34m,\u001b[0m \u001b[0mt2\u001b[0m \u001b[0;34m=\u001b[0m \u001b[0mimg1\u001b[0m\u001b[0;34m,\u001b[0m \u001b[0mimg2\u001b[0m\u001b[0;34m\u001b[0m\u001b[0;34m\u001b[0m\u001b[0m\n\u001b[1;32m      8\u001b[0m     \u001b[0mline\u001b[0m \u001b[0;34m=\u001b[0m \u001b[0mt1\u001b[0m\u001b[0;34m.\u001b[0m\u001b[0mnew_zeros\u001b[0m\u001b[0;34m(\u001b[0m\u001b[0mt1\u001b[0m\u001b[0;34m.\u001b[0m\u001b[0mshape\u001b[0m\u001b[0;34m[\u001b[0m\u001b[0;36m0\u001b[0m\u001b[0;34m]\u001b[0m\u001b[0;34m,\u001b[0m \u001b[0mt1\u001b[0m\u001b[0;34m.\u001b[0m\u001b[0mshape\u001b[0m\u001b[0;34m[\u001b[0m\u001b[0;36m1\u001b[0m\u001b[0;34m]\u001b[0m\u001b[0;34m,\u001b[0m \u001b[0;36m10\u001b[0m\u001b[0;34m)\u001b[0m\u001b[0;34m\u001b[0m\u001b[0;34m\u001b[0m\u001b[0m\n\u001b[0;32m----> 9\u001b[0;31m     return show_image(torch.cat([t1, line, t2], dim=2),\n\u001b[0m\u001b[1;32m     10\u001b[0m                                 title=same_breed, ctx=ctx)\n",
            "\u001b[0;31mRuntimeError\u001b[0m: Sizes of tensors must match except in dimension 2. Expected size 225 but got size 201 for tensor number 2 in the list."
          ]
        }
      ]
    },
    {
      "cell_type": "code",
      "source": [],
      "metadata": {
        "id": "oZvpf0IlXVnz"
      },
      "execution_count": null,
      "outputs": []
    }
  ]
}